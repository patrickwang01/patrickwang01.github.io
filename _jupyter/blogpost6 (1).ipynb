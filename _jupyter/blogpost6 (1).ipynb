{
  "nbformat": 4,
  "nbformat_minor": 0,
  "metadata": {
    "colab": {
      "name": "blogpost6.ipynb",
      "provenance": [],
      "collapsed_sections": []
    },
    "kernelspec": {
      "name": "python3",
      "display_name": "Python 3"
    },
    "language_info": {
      "name": "python"
    },
    "accelerator": "GPU"
  },
  "cells": [
    {
      "cell_type": "code",
      "execution_count": 2,
      "metadata": {
        "id": "raDkUQ3u-iPG"
      },
      "outputs": [],
      "source": [
        "import tensorflow as tf\n",
        "from tensorflow import keras\n",
        "from tensorflow.keras.layers.experimental import preprocessing\n",
        "from tensorflow.keras import datasets, layers, models\n",
        "from tensorflow.keras.layers.experimental.preprocessing import TextVectorization\n",
        "from tensorflow.keras.layers.experimental.preprocessing import StringLookup\n",
        "\n",
        "import re\n",
        "import string\n",
        "import numpy as np\n",
        "from matplotlib import pyplot as plt\n",
        "import pandas as pd"
      ]
    },
    {
      "cell_type": "code",
      "source": [
        "train_url = \"https://github.com/PhilChodrow/PIC16b/blob/master/datasets/fake_news_train.csv?raw=true\""
      ],
      "metadata": {
        "id": "SWbvbdD2RLqv"
      },
      "execution_count": 3,
      "outputs": []
    },
    {
      "cell_type": "code",
      "source": [
        "news = pd.read_csv(train_url)"
      ],
      "metadata": {
        "id": "U7t426-bRdvn"
      },
      "execution_count": 4,
      "outputs": []
    },
    {
      "cell_type": "code",
      "source": [
        "news.head()"
      ],
      "metadata": {
        "colab": {
          "base_uri": "https://localhost:8080/",
          "height": 206
        },
        "id": "pDYRDsfrRjIN",
        "outputId": "701b3b49-b0c4-4855-afec-bbab082d4c3d"
      },
      "execution_count": 5,
      "outputs": [
        {
          "output_type": "execute_result",
          "data": {
            "text/html": [
              "\n",
              "  <div id=\"df-afac3b5a-e52c-4c9e-b721-f5cafe00249f\">\n",
              "    <div class=\"colab-df-container\">\n",
              "      <div>\n",
              "<style scoped>\n",
              "    .dataframe tbody tr th:only-of-type {\n",
              "        vertical-align: middle;\n",
              "    }\n",
              "\n",
              "    .dataframe tbody tr th {\n",
              "        vertical-align: top;\n",
              "    }\n",
              "\n",
              "    .dataframe thead th {\n",
              "        text-align: right;\n",
              "    }\n",
              "</style>\n",
              "<table border=\"1\" class=\"dataframe\">\n",
              "  <thead>\n",
              "    <tr style=\"text-align: right;\">\n",
              "      <th></th>\n",
              "      <th>Unnamed: 0</th>\n",
              "      <th>title</th>\n",
              "      <th>text</th>\n",
              "      <th>fake</th>\n",
              "    </tr>\n",
              "  </thead>\n",
              "  <tbody>\n",
              "    <tr>\n",
              "      <th>0</th>\n",
              "      <td>17366</td>\n",
              "      <td>Merkel: Strong result for Austria's FPO 'big c...</td>\n",
              "      <td>German Chancellor Angela Merkel said on Monday...</td>\n",
              "      <td>0</td>\n",
              "    </tr>\n",
              "    <tr>\n",
              "      <th>1</th>\n",
              "      <td>5634</td>\n",
              "      <td>Trump says Pence will lead voter fraud panel</td>\n",
              "      <td>WEST PALM BEACH, Fla.President Donald Trump sa...</td>\n",
              "      <td>0</td>\n",
              "    </tr>\n",
              "    <tr>\n",
              "      <th>2</th>\n",
              "      <td>17487</td>\n",
              "      <td>JUST IN: SUSPECTED LEAKER and “Close Confidant...</td>\n",
              "      <td>On December 5, 2017, Circa s Sara Carter warne...</td>\n",
              "      <td>1</td>\n",
              "    </tr>\n",
              "    <tr>\n",
              "      <th>3</th>\n",
              "      <td>12217</td>\n",
              "      <td>Thyssenkrupp has offered help to Argentina ove...</td>\n",
              "      <td>Germany s Thyssenkrupp, has offered assistance...</td>\n",
              "      <td>0</td>\n",
              "    </tr>\n",
              "    <tr>\n",
              "      <th>4</th>\n",
              "      <td>5535</td>\n",
              "      <td>Trump say appeals court decision on travel ban...</td>\n",
              "      <td>President Donald Trump on Thursday called the ...</td>\n",
              "      <td>0</td>\n",
              "    </tr>\n",
              "  </tbody>\n",
              "</table>\n",
              "</div>\n",
              "      <button class=\"colab-df-convert\" onclick=\"convertToInteractive('df-afac3b5a-e52c-4c9e-b721-f5cafe00249f')\"\n",
              "              title=\"Convert this dataframe to an interactive table.\"\n",
              "              style=\"display:none;\">\n",
              "        \n",
              "  <svg xmlns=\"http://www.w3.org/2000/svg\" height=\"24px\"viewBox=\"0 0 24 24\"\n",
              "       width=\"24px\">\n",
              "    <path d=\"M0 0h24v24H0V0z\" fill=\"none\"/>\n",
              "    <path d=\"M18.56 5.44l.94 2.06.94-2.06 2.06-.94-2.06-.94-.94-2.06-.94 2.06-2.06.94zm-11 1L8.5 8.5l.94-2.06 2.06-.94-2.06-.94L8.5 2.5l-.94 2.06-2.06.94zm10 10l.94 2.06.94-2.06 2.06-.94-2.06-.94-.94-2.06-.94 2.06-2.06.94z\"/><path d=\"M17.41 7.96l-1.37-1.37c-.4-.4-.92-.59-1.43-.59-.52 0-1.04.2-1.43.59L10.3 9.45l-7.72 7.72c-.78.78-.78 2.05 0 2.83L4 21.41c.39.39.9.59 1.41.59.51 0 1.02-.2 1.41-.59l7.78-7.78 2.81-2.81c.8-.78.8-2.07 0-2.86zM5.41 20L4 18.59l7.72-7.72 1.47 1.35L5.41 20z\"/>\n",
              "  </svg>\n",
              "      </button>\n",
              "      \n",
              "  <style>\n",
              "    .colab-df-container {\n",
              "      display:flex;\n",
              "      flex-wrap:wrap;\n",
              "      gap: 12px;\n",
              "    }\n",
              "\n",
              "    .colab-df-convert {\n",
              "      background-color: #E8F0FE;\n",
              "      border: none;\n",
              "      border-radius: 50%;\n",
              "      cursor: pointer;\n",
              "      display: none;\n",
              "      fill: #1967D2;\n",
              "      height: 32px;\n",
              "      padding: 0 0 0 0;\n",
              "      width: 32px;\n",
              "    }\n",
              "\n",
              "    .colab-df-convert:hover {\n",
              "      background-color: #E2EBFA;\n",
              "      box-shadow: 0px 1px 2px rgba(60, 64, 67, 0.3), 0px 1px 3px 1px rgba(60, 64, 67, 0.15);\n",
              "      fill: #174EA6;\n",
              "    }\n",
              "\n",
              "    [theme=dark] .colab-df-convert {\n",
              "      background-color: #3B4455;\n",
              "      fill: #D2E3FC;\n",
              "    }\n",
              "\n",
              "    [theme=dark] .colab-df-convert:hover {\n",
              "      background-color: #434B5C;\n",
              "      box-shadow: 0px 1px 3px 1px rgba(0, 0, 0, 0.15);\n",
              "      filter: drop-shadow(0px 1px 2px rgba(0, 0, 0, 0.3));\n",
              "      fill: #FFFFFF;\n",
              "    }\n",
              "  </style>\n",
              "\n",
              "      <script>\n",
              "        const buttonEl =\n",
              "          document.querySelector('#df-afac3b5a-e52c-4c9e-b721-f5cafe00249f button.colab-df-convert');\n",
              "        buttonEl.style.display =\n",
              "          google.colab.kernel.accessAllowed ? 'block' : 'none';\n",
              "\n",
              "        async function convertToInteractive(key) {\n",
              "          const element = document.querySelector('#df-afac3b5a-e52c-4c9e-b721-f5cafe00249f');\n",
              "          const dataTable =\n",
              "            await google.colab.kernel.invokeFunction('convertToInteractive',\n",
              "                                                     [key], {});\n",
              "          if (!dataTable) return;\n",
              "\n",
              "          const docLinkHtml = 'Like what you see? Visit the ' +\n",
              "            '<a target=\"_blank\" href=https://colab.research.google.com/notebooks/data_table.ipynb>data table notebook</a>'\n",
              "            + ' to learn more about interactive tables.';\n",
              "          element.innerHTML = '';\n",
              "          dataTable['output_type'] = 'display_data';\n",
              "          await google.colab.output.renderOutput(dataTable, element);\n",
              "          const docLink = document.createElement('div');\n",
              "          docLink.innerHTML = docLinkHtml;\n",
              "          element.appendChild(docLink);\n",
              "        }\n",
              "      </script>\n",
              "    </div>\n",
              "  </div>\n",
              "  "
            ],
            "text/plain": [
              "   Unnamed: 0                                              title  \\\n",
              "0       17366  Merkel: Strong result for Austria's FPO 'big c...   \n",
              "1        5634       Trump says Pence will lead voter fraud panel   \n",
              "2       17487  JUST IN: SUSPECTED LEAKER and “Close Confidant...   \n",
              "3       12217  Thyssenkrupp has offered help to Argentina ove...   \n",
              "4        5535  Trump say appeals court decision on travel ban...   \n",
              "\n",
              "                                                text  fake  \n",
              "0  German Chancellor Angela Merkel said on Monday...     0  \n",
              "1  WEST PALM BEACH, Fla.President Donald Trump sa...     0  \n",
              "2  On December 5, 2017, Circa s Sara Carter warne...     1  \n",
              "3  Germany s Thyssenkrupp, has offered assistance...     0  \n",
              "4  President Donald Trump on Thursday called the ...     0  "
            ]
          },
          "metadata": {},
          "execution_count": 5
        }
      ]
    },
    {
      "cell_type": "code",
      "source": [
        "fake = len(news[\"fake\"].unique())"
      ],
      "metadata": {
        "id": "8ZmE_AjnRl4M"
      },
      "execution_count": 5,
      "outputs": []
    },
    {
      "cell_type": "code",
      "source": [
        "import nltk\n",
        "nltk.download('stopwords')"
      ],
      "metadata": {
        "colab": {
          "base_uri": "https://localhost:8080/"
        },
        "id": "5Y71r9AuUesX",
        "outputId": "b0919e5b-3063-428e-9828-1c5569ef45e8"
      },
      "execution_count": 6,
      "outputs": [
        {
          "output_type": "stream",
          "name": "stdout",
          "text": [
            "[nltk_data] Downloading package stopwords to /root/nltk_data...\n",
            "[nltk_data]   Unzipping corpora/stopwords.zip.\n"
          ]
        },
        {
          "output_type": "execute_result",
          "data": {
            "text/plain": [
              "True"
            ]
          },
          "metadata": {},
          "execution_count": 6
        }
      ]
    },
    {
      "cell_type": "code",
      "source": [
        "from nltk.corpus import stopwords\n",
        "stopwords = stopwords.words('english')\n",
        "\n",
        "\n",
        "news[\"title\"] = news[\"title\"].apply(lambda x: ' '.join([i for i in x.split() if i not in (stopwords)]))\n",
        "news[\"text\"] = news[\"text\"].apply(lambda x: ' '.join([i for i in x.split() if i not in (stopwords)]))"
      ],
      "metadata": {
        "id": "NpMHPZVQSlHR"
      },
      "execution_count": 7,
      "outputs": []
    },
    {
      "cell_type": "code",
      "source": [
        "dataset = tf.data.Dataset.from_tensor_slices(\n",
        "    (\n",
        "        {\n",
        "            \"title\" : news[[\"title\"]], \n",
        "            \"text\" : news[[\"text\"]]\n",
        "        }, \n",
        "     \n",
        "        {\n",
        "            \"fake\" : news[[\"fake\"]]\n",
        "        }\n",
        "    )\n",
        ")"
      ],
      "metadata": {
        "id": "K1UNvuGcS7H_"
      },
      "execution_count": 8,
      "outputs": []
    },
    {
      "cell_type": "code",
      "source": [
        "def make_dataset(df):\n",
        "\n",
        "  # remove stopwords\n",
        "  news[\"title\"] = news[\"title\"].apply(lambda x: ' '.join([i for i in x.split() if i not in (stopwords)]))\n",
        "  news[\"text\"] = news[\"text\"].apply(lambda x: ' '.join([i for i in x.split() if i not in (stopwords)]))\n",
        "\n",
        "  # create dataset \n",
        "  dataset = tf.data.Dataset.from_tensor_slices(\n",
        "    (\n",
        "        {\n",
        "            \"title\" : news[[\"title\"]], \n",
        "            \"text\" : news[[\"text\"]]\n",
        "        }, \n",
        "     \n",
        "        {\n",
        "            \"fake\" : news[[\"fake\"]]\n",
        "        }\n",
        "    )\n",
        "  )\n",
        "  \n",
        "  # batch dataset\n",
        "  dataset.batch(100)\n",
        "\n",
        "  return dataset\n",
        "  "
      ],
      "metadata": {
        "id": "fbaQBCA1Up-v"
      },
      "execution_count": 9,
      "outputs": []
    },
    {
      "cell_type": "code",
      "source": [
        "news_data = make_dataset(news)"
      ],
      "metadata": {
        "id": "RKb4YQZsYLnW"
      },
      "execution_count": 10,
      "outputs": []
    },
    {
      "cell_type": "code",
      "source": [
        "# split train/validation into 80/20\n",
        "training_size = int(0.80 * len(news_data))\n",
        "validation_size = int(0.20 * len(news_data))\n",
        "\n",
        "train_set = news_data.take(training_size).batch(20)\n",
        "validation_set = news_data.skip(training_size).take(validation_size).batch(20)"
      ],
      "metadata": {
        "id": "4GW72SmxYgdP"
      },
      "execution_count": 11,
      "outputs": []
    },
    {
      "cell_type": "code",
      "source": [
        "# calculate base rate of model \n",
        "iterator = train_set.unbatch().map(lambda x, news_data: news_data[\"fake\"]).as_numpy_iterator()\n",
        "\n",
        "number = 0\n",
        "for num in iterator:\n",
        "  if num == 1:\n",
        "    number += 1\n",
        "\n",
        "print(number / training_size)"
      ],
      "metadata": {
        "colab": {
          "base_uri": "https://localhost:8080/"
        },
        "id": "Nn5CoOh3DSXH",
        "outputId": "93559297-0493-49fc-dd27-69670bbf3d05"
      },
      "execution_count": 43,
      "outputs": [
        {
          "output_type": "stream",
          "name": "stdout",
          "text": [
            "0.521911019544518\n"
          ]
        }
      ]
    },
    {
      "cell_type": "code",
      "source": [
        "# create inputs for models \n",
        "\n",
        "# title is one dimension string type\n",
        "title = keras.Input(\n",
        "    shape = (1,), \n",
        "    name = \"title\",\n",
        "    dtype = \"string\"\n",
        ")\n",
        "\n",
        "# text is 1D string type\n",
        "text = keras.Input(\n",
        "    shape = (1,), \n",
        "    name = \"text\",\n",
        "    dtype = \"string\"\n",
        ")"
      ],
      "metadata": {
        "id": "yENm5NxPYuKu"
      },
      "execution_count": 12,
      "outputs": []
    },
    {
      "cell_type": "code",
      "source": [
        "vocab_limit = 2000\n",
        "\n",
        "# remove all punctuations + lowercase all letters\n",
        "def standardization(data):\n",
        "    lower = tf.strings.lower(data)\n",
        "    remove_punctuation = tf.strings.regex_replace(lower, '[%s]' % re.escape(string.punctuation),'')\n",
        "\n",
        "    return remove_punctuation \n",
        "\n",
        "vectorize_layer = TextVectorization(\n",
        "    standardize = standardization,\n",
        "    max_tokens = vocab_limit, # only consider this many words\n",
        "    output_mode = 'int',\n",
        "    output_sequence_length = 500) \n",
        "\n",
        "vectorize_layer.adapt(train_set.map(lambda x, y: x[\"title\"]))\n",
        "vectorize_layer.adapt(train_set.map(lambda x, y: x[\"text\"]))"
      ],
      "metadata": {
        "id": "gzjz0Xrud-_D"
      },
      "execution_count": 13,
      "outputs": []
    },
    {
      "cell_type": "code",
      "source": [
        "# functional API layers for 'title'\n",
        "title_layer = vectorize_layer(title)\n",
        "title_layer = layers.Embedding(vocab_limit, 3, name = \"embedding\")(title_layer)\n",
        "title_layer = layers.Dropout(0.2)(title_layer)\n",
        "title_layer = layers.GlobalAveragePooling1D()(title_layer)\n",
        "title_layer = layers.Dropout(0.2)(title_layer)\n",
        "title_layer = layers.Dense(32, activation = 'relu')(title_layer)"
      ],
      "metadata": {
        "id": "PcZmvy7YZUw2"
      },
      "execution_count": 14,
      "outputs": []
    },
    {
      "cell_type": "code",
      "source": [
        "#functional API layers for 'text'\n",
        "text_layer = vectorize_layer(text)\n",
        "text_layer = layers.Embedding(vocab_limit, 3, name = \"embedding\")(text_layer)\n",
        "text_layer = layers.Dropout(0.2)(text_layer)\n",
        "text_layer = layers.GlobalAveragePooling1D()(text_layer)\n",
        "text_layer = layers.Dropout(0.2)(text_layer)\n",
        "text_layer = layers.Dense(32, activation = 'relu')(text_layer)"
      ],
      "metadata": {
        "id": "UEn7LsMogqut"
      },
      "execution_count": 15,
      "outputs": []
    },
    {
      "cell_type": "code",
      "source": [
        "# 1st model (title only)\n",
        "output = layers.Dense(fake, name = \"fake\")(title_layer)\n"
      ],
      "metadata": {
        "id": "fRjdHXn6hFAK"
      },
      "execution_count": 16,
      "outputs": []
    },
    {
      "cell_type": "code",
      "source": [
        "# 1st model (title only)\n",
        "model1 = keras.Model(\n",
        "    inputs = [title,],\n",
        "    outputs = output\n",
        ")\n"
      ],
      "metadata": {
        "id": "C6e4gegJjAFk"
      },
      "execution_count": 17,
      "outputs": []
    },
    {
      "cell_type": "code",
      "source": [
        "model1.summary()"
      ],
      "metadata": {
        "colab": {
          "base_uri": "https://localhost:8080/"
        },
        "id": "kLpzyiVhjLxZ",
        "outputId": "cf0472ef-b5a6-456d-f875-4a3a86b1a349"
      },
      "execution_count": 38,
      "outputs": [
        {
          "output_type": "stream",
          "name": "stdout",
          "text": [
            "Model: \"model\"\n",
            "_________________________________________________________________\n",
            " Layer (type)                Output Shape              Param #   \n",
            "=================================================================\n",
            " title (InputLayer)          [(None, 1)]               0         \n",
            "                                                                 \n",
            " text_vectorization (TextVec  (None, 500)              0         \n",
            " torization)                                                     \n",
            "                                                                 \n",
            " embedding (Embedding)       (None, 500, 3)            6000      \n",
            "                                                                 \n",
            " dropout (Dropout)           (None, 500, 3)            0         \n",
            "                                                                 \n",
            " global_average_pooling1d (G  (None, 3)                0         \n",
            " lobalAveragePooling1D)                                          \n",
            "                                                                 \n",
            " dropout_1 (Dropout)         (None, 3)                 0         \n",
            "                                                                 \n",
            " dense (Dense)               (None, 32)                128       \n",
            "                                                                 \n",
            " fake (Dense)                (None, 2)                 66        \n",
            "                                                                 \n",
            "=================================================================\n",
            "Total params: 6,194\n",
            "Trainable params: 6,194\n",
            "Non-trainable params: 0\n",
            "_________________________________________________________________\n"
          ]
        }
      ]
    },
    {
      "cell_type": "code",
      "source": [
        "model1.compile(optimizer = \"adam\",\n",
        "              loss = tf.keras.losses.SparseCategoricalCrossentropy(from_logits = True),\n",
        "              metrics = ['accuracy']\n",
        ")"
      ],
      "metadata": {
        "id": "-avV3QHHjOWN"
      },
      "execution_count": 18,
      "outputs": []
    },
    {
      "cell_type": "code",
      "source": [
        "history = model1.fit(train_set, \n",
        "                    validation_data = validation_set,\n",
        "                    epochs = 20, \n",
        "                    verbose = False)"
      ],
      "metadata": {
        "colab": {
          "base_uri": "https://localhost:8080/"
        },
        "id": "8gmu58GOjYXG",
        "outputId": "44f6e1af-fdc9-4d4a-f3b1-a2c1dec4e7f7"
      },
      "execution_count": 25,
      "outputs": [
        {
          "output_type": "stream",
          "name": "stderr",
          "text": [
            "/usr/local/lib/python3.7/dist-packages/keras/engine/functional.py:559: UserWarning: Input dict contained keys ['text'] which did not match any model input. They will be ignored by the model.\n",
            "  inputs = self._flatten_to_reference_inputs(inputs)\n"
          ]
        }
      ]
    },
    {
      "cell_type": "code",
      "source": [
        "# plot training vs validation history for model\n",
        "def training_history(History):\n",
        "  plt.plot(history.history[\"accuracy\"], label = \"training\")\n",
        "  plt.plot(history.history[\"val_accuracy\"], label = \"validation\")\n",
        "  plt.gca().set(title = \"Training vs Validation Accuracy\", xlabel = \"Epoch\", ylabel = \"Accuracy\")\n",
        "  plt.legend()"
      ],
      "metadata": {
        "id": "g7jMT-7-3v3A"
      },
      "execution_count": 23,
      "outputs": []
    },
    {
      "cell_type": "code",
      "source": [
        "# model 1\n",
        "training_history(history)"
      ],
      "metadata": {
        "colab": {
          "base_uri": "https://localhost:8080/",
          "height": 295
        },
        "id": "5dafj6VG3-AI",
        "outputId": "24b780c2-5ea9-4d16-d9de-4d0350618185"
      },
      "execution_count": 26,
      "outputs": [
        {
          "output_type": "display_data",
          "data": {
            "image/png": "[encoded data removed]",
            "text/plain": [
              "<Figure size 432x288 with 1 Axes>"
            ]
          },
          "metadata": {
            "needs_background": "light"
          }
        }
      ]
    },
    {
      "cell_type": "code",
      "source": [
        "# 2nd model (text only)\n",
        "\n",
        "output = layers.Dense(fake, name = \"fake\")(text_layer)\n",
        "\n",
        "model2 = keras.Model(\n",
        "    inputs = [text,],\n",
        "    outputs = output\n",
        ")\n",
        "\n",
        "model2.compile(optimizer = \"adam\",\n",
        "              loss = tf.keras.losses.SparseCategoricalCrossentropy(from_logits = True),\n",
        "              metrics = ['accuracy']\n",
        ")\n"
      ],
      "metadata": {
        "id": "QNQLS--gks9N"
      },
      "execution_count": 19,
      "outputs": []
    },
    {
      "cell_type": "code",
      "source": [
        "model2.summary()"
      ],
      "metadata": {
        "colab": {
          "base_uri": "https://localhost:8080/"
        },
        "id": "Y7XuyGcd1XwM",
        "outputId": "bdaf29a5-31df-427d-87b7-1824774d81bb"
      },
      "execution_count": 20,
      "outputs": [
        {
          "output_type": "stream",
          "name": "stdout",
          "text": [
            "Model: \"model_1\"\n",
            "_________________________________________________________________\n",
            " Layer (type)                Output Shape              Param #   \n",
            "=================================================================\n",
            " text (InputLayer)           [(None, 1)]               0         \n",
            "                                                                 \n",
            " text_vectorization (TextVec  (None, 500)              0         \n",
            " torization)                                                     \n",
            "                                                                 \n",
            " embedding (Embedding)       (None, 500, 3)            6000      \n",
            "                                                                 \n",
            " dropout_2 (Dropout)         (None, 500, 3)            0         \n",
            "                                                                 \n",
            " global_average_pooling1d_1   (None, 3)                0         \n",
            " (GlobalAveragePooling1D)                                        \n",
            "                                                                 \n",
            " dropout_3 (Dropout)         (None, 3)                 0         \n",
            "                                                                 \n",
            " dense_1 (Dense)             (None, 32)                128       \n",
            "                                                                 \n",
            " fake (Dense)                (None, 2)                 66        \n",
            "                                                                 \n",
            "=================================================================\n",
            "Total params: 6,194\n",
            "Trainable params: 6,194\n",
            "Non-trainable params: 0\n",
            "_________________________________________________________________\n"
          ]
        }
      ]
    },
    {
      "cell_type": "code",
      "source": [
        "history = model2.fit(train_set, \n",
        "                    validation_data = validation_set,\n",
        "                    epochs = 20, \n",
        "                    verbose = False)"
      ],
      "metadata": {
        "colab": {
          "base_uri": "https://localhost:8080/"
        },
        "id": "1KONHuz01Vb2",
        "outputId": "2a3e02c9-2e9a-498d-f4ac-e63f79ced128"
      },
      "execution_count": 21,
      "outputs": [
        {
          "output_type": "stream",
          "name": "stderr",
          "text": [
            "/usr/local/lib/python3.7/dist-packages/keras/engine/functional.py:559: UserWarning: Input dict contained keys ['title'] which did not match any model input. They will be ignored by the model.\n",
            "  inputs = self._flatten_to_reference_inputs(inputs)\n"
          ]
        }
      ]
    },
    {
      "cell_type": "code",
      "source": [
        "# model 2\n",
        "training_history(history)"
      ],
      "metadata": {
        "colab": {
          "base_uri": "https://localhost:8080/",
          "height": 295
        },
        "id": "hEO6T1s54fQe",
        "outputId": "766fc9fb-1d92-4e12-c32b-fe4951733e52"
      },
      "execution_count": 24,
      "outputs": [
        {
          "output_type": "display_data",
          "data": {
            "image/png": "[encoded data removed]",
            "text/plain": [
              "<Figure size 432x288 with 1 Axes>"
            ]
          },
          "metadata": {
            "needs_background": "light"
          }
        }
      ]
    },
    {
      "cell_type": "code",
      "source": [
        "# title component for model 3 (title + text)\n",
        "\n",
        "title_layer = vectorize_layer(title)\n",
        "#title_layer = layers.Dropout(0.2)(title_layer)\n",
        "#title_layer = layers.GlobalAveragePooling1D()(title_layer)\n",
        "#title_layer = layers.Dropout(0.2)(title_layer)\n",
        "title_layer = layers.Dense(32, activation = 'relu')(title_layer)"
      ],
      "metadata": {
        "id": "lr0GNx5bogzq"
      },
      "execution_count": 27,
      "outputs": []
    },
    {
      "cell_type": "code",
      "source": [
        "# both inputs combined\n",
        "combined = layers.concatenate([title_layer, text_layer], axis = 1)"
      ],
      "metadata": {
        "id": "Jf5dbWnjmEhR"
      },
      "execution_count": 28,
      "outputs": []
    },
    {
      "cell_type": "code",
      "source": [
        "combined = layers.Dense(32, activation='relu')(combined)\n",
        "output = layers.Dense(fake, name = \"fake\")(combined)"
      ],
      "metadata": {
        "id": "ZV6VuCHRnRoX"
      },
      "execution_count": 29,
      "outputs": []
    },
    {
      "cell_type": "code",
      "source": [
        "# model 3 (title + text)\n",
        "model3 = keras.Model(\n",
        "    inputs = [title, text],\n",
        "    outputs = output\n",
        ")\n",
        "\n",
        "model3.compile(optimizer = \"adam\",\n",
        "              loss = tf.keras.losses.SparseCategoricalCrossentropy(from_logits = True),\n",
        "              metrics = ['accuracy']\n",
        ")"
      ],
      "metadata": {
        "id": "mPwxf8-Dne35"
      },
      "execution_count": 32,
      "outputs": []
    },
    {
      "cell_type": "code",
      "source": [
        "model3.summary()"
      ],
      "metadata": {
        "colab": {
          "base_uri": "https://localhost:8080/"
        },
        "id": "LfIasYqXsPop",
        "outputId": "e3690ba9-8938-4c2f-ae2d-17e02ab8de25"
      },
      "execution_count": 33,
      "outputs": [
        {
          "output_type": "stream",
          "name": "stdout",
          "text": [
            "Model: \"model_3\"\n",
            "__________________________________________________________________________________________________\n",
            " Layer (type)                   Output Shape         Param #     Connected to                     \n",
            "==================================================================================================\n",
            " title (InputLayer)             [(None, 1)]          0           []                               \n",
            "                                                                                                  \n",
            " text (InputLayer)              [(None, 1)]          0           []                               \n",
            "                                                                                                  \n",
            " text_vectorization (TextVector  (None, 500)         0           ['text[0][0]',                   \n",
            " ization)                                                         'title[0][0]']                  \n",
            "                                                                                                  \n",
            " embedding (Embedding)          (None, 500, 3)       6000        ['text_vectorization[1][0]']     \n",
            "                                                                                                  \n",
            " dropout_2 (Dropout)            (None, 500, 3)       0           ['embedding[0][0]']              \n",
            "                                                                                                  \n",
            " global_average_pooling1d_1 (Gl  (None, 3)           0           ['dropout_2[0][0]']              \n",
            " obalAveragePooling1D)                                                                            \n",
            "                                                                                                  \n",
            " dropout_3 (Dropout)            (None, 3)            0           ['global_average_pooling1d_1[0][0\n",
            "                                                                 ]']                              \n",
            "                                                                                                  \n",
            " dense_2 (Dense)                (None, 32)           16032       ['text_vectorization[2][0]']     \n",
            "                                                                                                  \n",
            " dense_1 (Dense)                (None, 32)           128         ['dropout_3[0][0]']              \n",
            "                                                                                                  \n",
            " concatenate (Concatenate)      (None, 64)           0           ['dense_2[0][0]',                \n",
            "                                                                  'dense_1[0][0]']                \n",
            "                                                                                                  \n",
            " dense_3 (Dense)                (None, 32)           2080        ['concatenate[0][0]']            \n",
            "                                                                                                  \n",
            " fake (Dense)                   (None, 2)            66          ['dense_3[0][0]']                \n",
            "                                                                                                  \n",
            "==================================================================================================\n",
            "Total params: 24,306\n",
            "Trainable params: 24,306\n",
            "Non-trainable params: 0\n",
            "__________________________________________________________________________________________________\n"
          ]
        }
      ]
    },
    {
      "cell_type": "code",
      "source": [
        "history = model3.fit(train_set, \n",
        "                    validation_data = validation_set,\n",
        "                    epochs = 20, \n",
        "                    verbose = False)"
      ],
      "metadata": {
        "id": "PeSmAIJEsbUM"
      },
      "execution_count": 34,
      "outputs": []
    },
    {
      "cell_type": "code",
      "source": [
        "# model 3\n",
        "training_history(history)"
      ],
      "metadata": {
        "colab": {
          "base_uri": "https://localhost:8080/",
          "height": 295
        },
        "id": "f_iSyL2N4wDH",
        "outputId": "17f1f9fc-51f2-46d3-d899-03e0b94e8c68"
      },
      "execution_count": 35,
      "outputs": [
        {
          "output_type": "display_data",
          "data": {
            "image/png": "[encoded data removed]",
            "text/plain": [
              "<Figure size 432x288 with 1 Axes>"
            ]
          },
          "metadata": {
            "needs_background": "light"
          }
        }
      ]
    },
    {
      "cell_type": "code",
      "source": [
        "# load in test set \n",
        "test_url = \"https://github.com/PhilChodrow/PIC16b/blob/master/datasets/fake_news_test.csv?raw=true\"\n",
        "\n",
        "test_set = pd.read_csv(test_url)"
      ],
      "metadata": {
        "id": "KctPsPC_xJin"
      },
      "execution_count": 36,
      "outputs": []
    },
    {
      "cell_type": "code",
      "source": [
        "# make test set into tf dataset\n",
        "test_news = make_dataset(test_set)"
      ],
      "metadata": {
        "id": "9CyzlCWOxmTC"
      },
      "execution_count": 37,
      "outputs": []
    },
    {
      "cell_type": "code",
      "source": [
        "# test score using model 3\n",
        "model3.evaluate(test_news)"
      ],
      "metadata": {
        "colab": {
          "base_uri": "https://localhost:8080/"
        },
        "id": "NBt0VJb_x3la",
        "outputId": "36443eab-23d1-424b-80dd-e5235d2ab783"
      },
      "execution_count": 38,
      "outputs": [
        {
          "output_type": "stream",
          "name": "stdout",
          "text": [
            "22449/22449 [==============================] - 44s 2ms/step - loss: 0.0211 - accuracy: 0.9961\n"
          ]
        },
        {
          "output_type": "execute_result",
          "data": {
            "text/plain": [
              "[0.021113725379109383, 0.9961245656013489]"
            ]
          },
          "metadata": {},
          "execution_count": 38
        }
      ]
    },
    {
      "cell_type": "code",
      "source": [
        "# embedding visualizations (model 3)\n",
        "weight = model3.get_layer('embedding').get_weights()[0] # get the weights from the embedding layer\n",
        "word_list = vectorize_layer.get_vocabulary()   # get all words found in dataset     \n",
        "\n",
        "from sklearn.decomposition import PCA\n",
        "pca = PCA(n_components = 2)  # 2D PCA\n",
        "weights = pca.fit_transform(weight)\n",
        "\n",
        "# create embedded dataframe with weights\n",
        "embedding_df = pd.DataFrame({\n",
        "    'word' : word_list, \n",
        "    'x0'   : weights[:,0],\n",
        "    'x1'   : weights[:,1]\n",
        "})"
      ],
      "metadata": {
        "id": "E3mTcZ2dt6TY"
      },
      "execution_count": 39,
      "outputs": []
    },
    {
      "cell_type": "code",
      "source": [
        "import plotly.express as px \n",
        "\n",
        "# plot embedded dataframe to visualize\n",
        "fig = px.scatter(embedding_df, \n",
        "                 x = \"x0\", \n",
        "                 y = \"x1\", \n",
        "                 size_max = 2,\n",
        "                 hover_name = \"word\",\n",
        "                 title = \"Embedded Visualization for Fake News Classification\")\n",
        "\n",
        "fig.show()"
      ],
      "metadata": {
        "colab": {
          "base_uri": "https://localhost:8080/",
          "height": 542
        },
        "id": "47iJ1I2Ew4L1",
        "outputId": "a8663006-6a7d-4774-9f0b-aa7e45c50808"
      },
      "execution_count": 40,
      "outputs": [
        {
          "output_type": "display_data",
          "data": {
            "text/html": [
              "<html>\n",
              "<head><meta charset=\"utf-8\" /></head>\n",
              "<body>\n",
              "    <div>            <script src=\"https://cdnjs.cloudflare.com/ajax/libs/mathjax/2.7.5/MathJax.js?config=TeX-AMS-MML_SVG\"></script><script type=\"text/javascript\">if (window.MathJax) {MathJax.Hub.Config({SVG: {font: \"STIX-Web\"}});}</script>                <script type=\"text/javascript\">window.PlotlyConfig = {MathJaxConfig: 'local'};</script>\n",
              "        <script src=\"https://cdn.plot.ly/plotly-2.8.3.min.js\"></script>                <div id=\"99b4b780-028a-445d-bf04-cb58f9a80229\" class=\"plotly-graph-div\" style=\"height:525px; width:100%;\"></div>            <script type=\"text/javascript\">                                    window.PLOTLYENV=window.PLOTLYENV || {};                                    if (document.getElementById(\"99b4b780-028a-445d-bf04-cb58f9a80229\")) {                    Plotly.newPlot(                        \"99b4b780-028a-445d-bf04-cb58f9a80229\",                        [{\"hovertemplate\":\"<b>%{hovertext}</b><br><br>x0=%{x}<br>x1=%{y}<extra></extra>\",\"hovertext\":[\"\",\"[UNK]\",\"said\",\"trump\",\"the\",\"us\",\"i\",\"would\",\"president\",\"people\",\"it\",\"one\",\"also\",\"new\",\"state\",\"donald\",\"house\",\"states\",\"government\",\"clinton\",\"he\",\"obama\",\"could\",\"republican\",\"told\",\"united\",\"in\",\"like\",\"white\",\"campaign\",\"we\",\"last\",\"two\",\"news\",\"time\",\"election\",\"first\",\"party\",\"this\",\"a\",\"even\",\"former\",\"year\",\"country\",\"but\",\"that\",\"hillary\",\"years\",\"many\",\"security\",\"may\",\"political\",\"say\",\"media\",\"make\",\"get\",\"national\",\"made\",\"since\",\"police\",\"law\",\"republicans\",\"court\",\"american\",\"going\",\"percent\",\"presidential\",\"and\",\"back\",\"bill\",\"democratic\",\"administration\",\"russia\",\"support\",\"think\",\"know\",\"week\",\"north\",\"america\",\"including\",\"senate\",\"public\",\"way\",\"trumps\",\"vote\",\"according\",\"group\",\"officials\",\"take\",\"office\",\"federal\",\"called\",\"they\",\"foreign\",\"right\",\"million\",\"statement\",\"saying\",\"world\",\"military\",\"department\",\"tax\",\"want\",\"washington\",\"well\",\"see\",\"you\",\"tuesday\",\"much\",\"russian\",\"still\",\"congress\",\"says\",\"another\",\"minister\",\"wednesday\",\"part\",\"there\",\"day\",\"women\",\"if\",\"work\",\"thursday\",\"go\",\"friday\",\"democrats\",\"policy\",\"asked\",\"2016\",\"monday\",\"war\",\"rights\",\"committee\",\"china\",\"next\",\"need\",\"americans\",\"secretary\",\"deal\",\"help\",\"city\",\"whether\",\"three\",\"official\",\"general\",\"black\",\"never\",\"case\",\"york\",\"korea\",\"leader\",\"around\",\"show\",\"man\",\"order\",\"come\",\"on\",\"members\",\"senator\",\"took\",\"meeting\",\"good\",\"report\",\"use\",\"candidate\",\"countries\",\"without\",\"power\",\"intelligence\",\"put\",\"left\",\"times\",\"fbi\",\"really\",\"used\",\"every\",\"she\",\"end\",\"attack\",\"money\",\"month\",\"syria\",\"investigation\",\"trade\",\"top\",\"decision\",\"fact\",\"justice\",\"twitter\",\"reported\",\"long\",\"family\",\"information\",\"change\",\"plan\",\"business\",\"already\",\"leaders\",\"groups\",\"international\",\"days\",\"here\",\"now\",\"nuclear\",\"story\",\"conservative\",\"several\",\"so\",\"interview\",\"far\",\"voters\",\"iran\",\"south\",\"as\",\"clear\",\"however\",\"fox\",\"place\",\"children\",\"likely\",\"among\",\"months\",\"health\",\"something\",\"issue\",\"director\",\"call\",\"program\",\"believe\",\"must\",\"got\",\"speech\",\"agency\",\"move\",\"social\",\"chief\",\"is\",\"barack\",\"press\",\"least\",\"home\",\"recent\",\"john\",\"came\",\"school\",\"things\",\"might\",\"immigration\",\"reporters\",\"major\",\"control\",\"number\",\"him\",\"trying\",\"found\",\"actually\",\"though\",\"act\",\"earlier\",\"seen\",\"sanders\",\"great\",\"post\",\"islamic\",\"border\",\"point\",\"matter\",\"killed\",\"billion\",\"sunday\",\"spokesman\",\"supporters\",\"later\",\"yet\",\"system\",\"today\",\"give\",\"look\",\"went\",\"economic\",\"working\",\"nation\",\"thing\",\"march\",\"keep\",\"them\",\"at\",\"making\",\"little\",\"win\",\"big\",\"muslim\",\"real\",\"executive\",\"away\",\"become\",\"free\",\"set\",\"for\",\"attacks\",\"let\",\"more\",\"past\",\"nothing\",\"legal\",\"member\",\"all\",\"democrat\",\"four\",\"violence\",\"prime\",\"added\",\"companies\",\"comment\",\"senior\",\"ever\",\"what\",\"july\",\"defense\",\"forces\",\"stop\",\"no\",\"european\",\"nations\",\"january\",\"not\",\"talks\",\"issues\",\"taking\",\"eu\",\"following\",\"opposition\",\"known\",\"held\",\"lawmakers\",\"better\",\"across\",\"continue\",\"local\",\"person\",\"human\",\"sanctions\",\"cruz\",\"illegal\",\"2015\",\"company\",\"action\",\"to\",\"expected\",\"gun\",\"care\",\"head\",\"given\",\"community\",\"process\",\"job\",\"legislation\",\"when\",\"enough\",\"governor\",\"others\",\"financial\",\"force\",\"possible\",\"woman\",\"june\",\"men\",\"high\",\"lot\",\"wrote\",\"important\",\"pay\",\"released\",\"done\",\"night\",\"wall\",\"un\",\"team\",\"source\",\"union\",\"history\",\"reports\",\"evidence\",\"attorney\",\"course\",\"nominee\",\"taken\",\"majority\",\"face\",\"supreme\",\"close\",\"response\",\"refugees\",\"anyone\",\"1\",\"run\",\"life\",\"syrian\",\"conference\",\"question\",\"private\",\"open\",\"staff\",\"special\",\"20\",\"using\",\"wants\",\"judge\",\"anything\",\"10\",\"ago\",\"ban\",\"find\",\"november\",\"mexico\",\"email\",\"plans\",\"second\",\"air\",\"gop\",\"fight\",\"less\",\"university\",\"comments\",\"best\",\"budget\",\"agreement\",\"mr\",\"behind\",\"future\",\"despite\",\"early\",\"crisis\",\"accused\",\"ryan\",\"debate\",\"able\",\"instead\",\"efforts\",\"watch\",\"iraq\",\"while\",\"role\",\"saturday\",\"putin\",\"someone\",\"along\",\"calling\",\"after\",\"race\",\"lives\",\"death\",\"five\",\"comes\",\"weeks\",\"within\",\"letter\",\"israel\",\"region\",\"name\",\"his\",\"current\",\"sure\",\"service\",\"announced\",\"lead\",\"full\",\"saudi\",\"jobs\",\"council\",\"sources\",\"economy\",\"visit\",\"hard\",\"civil\",\"getting\",\"october\",\"due\",\"students\",\"global\",\"event\",\"running\",\"coalition\",\"citizens\",\"paul\",\"congressional\",\"with\",\"live\",\"out\",\"allow\",\"elections\",\"sent\",\"young\",\"december\",\"line\",\"emails\",\"britain\",\"muslims\",\"texas\",\"coming\",\"effort\",\"facebook\",\"chairman\",\"problem\",\"candidates\",\"rules\",\"center\",\"ties\",\"position\",\"nearly\",\"8\",\"daily\",\"thousands\",\"representatives\",\"authorities\",\"wanted\",\"weapons\",\"2014\",\"september\",\"leave\",\"led\",\"votes\",\"some\",\"ruling\",\"needs\",\"middle\",\"comey\",\"tell\",\"street\",\"hold\",\"reform\",\"politics\",\"climate\",\"talk\",\"florida\",\"2\",\"outside\",\"army\",\"february\",\"relations\",\"began\",\"peace\",\"obamacare\",\"officers\",\"rule\",\"immediately\",\"claims\",\"failed\",\"15\",\"liberal\",\"april\",\"criminal\",\"together\",\"based\",\"bad\",\"whose\",\"east\",\"late\",\"means\",\"healthcare\",\"capital\",\"everyone\",\"words\",\"start\",\"cannot\",\"gave\",\"central\",\"agencies\",\"bush\",\"access\",\"parliament\",\"message\",\"latest\",\"thought\",\"lost\",\"list\",\"do\",\"germany\",\"again\",\"tried\",\"questions\",\"services\",\"different\",\"sexual\",\"showed\",\"rather\",\"turkey\",\"speaking\",\"workers\",\"2017\",\"immigrants\",\"decided\",\"bring\",\"concerns\",\"hope\",\"strong\",\"read\",\"conservatives\",\"voting\",\"racist\",\"protect\",\"elected\",\"policies\",\"six\",\"always\",\"charges\",\"recently\",\"reason\",\"threat\",\"ministry\",\"august\",\"try\",\"meet\",\"cut\",\"almost\",\"energy\",\"up\",\"organization\",\"stand\",\"millions\",\"idea\",\"spending\",\"poll\",\"enforcement\",\"planned\",\"makes\",\"george\",\"ahead\",\"received\",\"involved\",\"denied\",\"her\",\"allowed\",\"laws\",\"everything\",\"allies\",\"often\",\"fake\",\"district\",\"entire\",\"happened\",\"industry\",\"met\",\"morning\",\"allegations\",\"parties\",\"rally\",\"of\",\"3\",\"missile\",\"provide\",\"seems\",\"talking\",\"freedom\",\"side\",\"shooting\",\"market\",\"oil\",\"agreed\",\"hate\",\"fire\",\"situation\",\"key\",\"officer\",\"30\",\"large\",\"release\",\"kind\",\"calls\",\"century\",\"looking\",\"especially\",\"europe\",\"needed\",\"fighting\",\"include\",\"12\",\"funding\",\"nomination\",\"room\",\"bank\",\"vice\",\"small\",\"shot\",\"personal\",\"adding\",\"james\",\"j\",\"representative\",\"cases\",\"actions\",\"west\",\"insurance\",\"realdonaldtrump\",\"presidency\",\"me\",\"chinese\",\"step\",\"potential\",\"movement\",\"hearing\",\"data\",\"clearly\",\"either\",\"near\",\"interest\",\"old\",\"worked\",\"myanmar\",\"host\",\"true\",\"biggest\",\"western\",\"although\",\"confirmed\",\"hit\",\"claim\",\"california\",\"feel\",\"tweet\",\"alleged\",\"address\",\"foundation\",\"request\",\"spoke\",\"hours\",\"voted\",\"shows\",\"wrong\",\"terrorist\",\"moscow\",\"forward\",\"term\",\"leading\",\"decades\",\"2012\",\"fired\",\"arrested\",\"area\",\"county\",\"polls\",\"british\",\"documents\",\"5\",\"wife\",\"board\",\"11\",\"korean\",\"serious\",\"return\",\"s\",\"building\",\"travel\",\"claimed\",\"water\",\"tillerson\",\"adviser\",\"front\",\"declined\",\"nov\",\"appeared\",\"relationship\",\"father\",\"pressure\",\"commission\",\"david\",\"crime\",\"families\",\"passed\",\"main\",\"review\",\"continued\",\"love\",\"terrorism\",\"25\",\"brought\",\"simply\",\"signed\",\"mean\",\"protesters\",\"influence\",\"dollars\",\"toward\",\"probably\",\"record\",\"points\",\"paid\",\"soon\",\"result\",\"network\",\"victory\",\"short\",\"taxes\",\"started\",\"truth\",\"aid\",\"forced\",\"pretty\",\"details\",\"raised\",\"turned\",\"primary\",\"4\",\"became\",\"college\",\"previously\",\"posted\",\"food\",\"mark\",\"mccain\",\"mike\",\"included\",\"leadership\",\"merkel\",\"spent\",\"pass\",\"popular\",\"attempt\",\"religious\",\"independence\",\"whole\",\"turn\",\"son\",\"friends\",\"debt\",\"proposed\",\"issued\",\"view\",\"agenda\",\"saw\",\"longer\",\"article\",\"arabia\",\"michael\",\"2013\",\"level\",\"our\",\"created\",\"half\",\"giving\",\"deputy\",\"seeking\",\"sign\",\"rubio\",\"bernie\",\"guy\",\"lawyer\",\"german\",\"protest\",\"incident\",\"regional\",\"conflict\",\"total\",\"phone\",\"independent\",\"ted\",\"clintons\",\"21st\",\"described\",\"respond\",\"obamas\",\"currently\",\"website\",\"criticized\",\"child\",\"example\",\"these\",\"push\",\"final\",\"areas\",\"living\",\"helped\",\"mayor\",\"remarks\",\"else\",\"increase\",\"ambassador\",\"account\",\"hand\",\"firm\",\"ask\",\"similar\",\"hundreds\",\"constitution\",\"fund\",\"speak\",\"absolutely\",\"fear\",\"town\",\"pence\",\"changes\",\"armed\",\"speaker\",\"sessions\",\"robert\",\"violent\",\"heard\",\"mass\",\"education\",\"by\",\"telling\",\"largest\",\"third\",\"protests\",\"remain\",\"discuss\",\"repeatedly\",\"goes\",\"programs\",\"an\",\"refugee\",\"inside\",\"employees\",\"spokeswoman\",\"risk\",\"reality\",\"how\",\"secret\",\"published\",\"flynn\",\"medical\",\"hands\",\"japan\",\"rate\",\"experts\",\"apparently\",\"appears\",\"lower\",\"tweeted\",\"convention\",\"page\",\"18\",\"individuals\",\"san\",\"are\",\"warned\",\"understand\",\"focus\",\"tv\",\"asking\",\"safety\",\"opinion\",\"mainstream\",\"single\",\"research\",\"form\",\"flag\",\"proposal\",\"why\",\"cost\",\"cause\",\"24\",\"johnson\",\"criticism\",\"completely\",\"build\",\"seven\",\"television\",\"politicians\",\"photo\",\"share\",\"previous\",\"voter\",\"nato\",\"measures\",\"interests\",\"victims\",\"businesses\",\"transition\",\"quickly\",\"problems\",\"100\",\"prevent\",\"happen\",\"militants\",\"carolina\",\"schools\",\"respect\",\"fellow\",\"development\",\"stay\",\"online\",\"funds\",\"presidentelect\",\"served\",\"seek\",\"northern\",\"concern\",\"provided\",\"crowd\",\"christian\",\"then\",\"its\",\"cia\",\"al\",\"urged\",\"student\",\"16\",\"king\",\"radio\",\"powerful\",\"book\",\"senators\",\"land\",\"southern\",\"iraqi\",\"create\",\"project\",\"committed\",\"6\",\"exactly\",\"attention\",\"13\",\"poor\",\"certainly\",\"parents\",\"dangerous\",\"safe\",\"charged\",\"troops\",\"isis\",\"trip\",\"coverage\",\"threats\",\"base\",\"responsible\",\"numbers\",\"events\",\"joe\",\"gets\",\"yes\",\"presidents\",\"consider\",\"concerned\",\"drug\",\"considered\",\"results\",\"named\",\"measure\",\"france\",\"operations\",\"false\",\"responded\",\"died\",\"rohingya\",\"island\",\"answer\",\"filed\",\"ground\",\"fraud\",\"target\",\"governments\",\"organizations\",\"14\",\"holding\",\"certain\",\"knew\",\"were\",\"series\",\"hear\",\"society\",\"panel\",\"internet\",\"residents\",\"choice\",\"brexit\",\"reporter\",\"leaving\",\"french\",\"expressed\",\"chance\",\"assault\",\"down\",\"cuts\",\"church\",\"critical\",\"charge\",\"kurdish\",\"favor\",\"ensure\",\"takes\",\"moment\",\"eight\",\"9\",\"who\",\"terms\",\"sides\",\"just\",\"democracy\",\"diplomatic\",\"investment\",\"backed\",\"ready\",\"rhetoric\",\"parts\",\"because\",\"knows\",\"corruption\",\"50\",\"virginia\",\"growing\",\"class\",\"affairs\",\"difficult\",\"worst\",\"believed\",\"behavior\",\"kelly\",\"repeal\",\"send\",\"protection\",\"mcconnell\",\"expect\",\"impact\",\"refused\",\"complete\",\"reached\",\"serve\",\"terrorists\",\"low\",\"individual\",\"rep\",\"standing\",\"records\",\"negotiations\",\"prison\",\"huge\",\"direct\",\"beyond\",\"approved\",\"sean\",\"views\",\"threatened\",\"terror\",\"suggested\",\"husband\",\"critics\",\"referendum\",\"agents\",\"moore\",\"play\",\"offered\",\"newspaper\",\"gas\",\"7\",\"ordered\",\"massive\",\"courts\",\"agree\",\"cities\",\"statements\",\"paris\",\"exchange\",\"labor\",\"believes\",\"about\",\"offer\",\"avoid\",\"mother\",\"cabinet\",\"progress\",\"ways\",\"maybe\",\"london\",\"continues\",\"finally\",\"defend\",\"car\",\"radical\",\"ability\",\"strategy\",\"star\",\"amendment\",\"screen\",\"scandal\",\"population\",\"sought\",\"regulations\",\"dnc\",\"word\",\"reach\",\"19\",\"sen\",\"joint\",\"authority\",\"god\",\"supported\",\"domestic\",\"corporate\",\"before\",\"perhaps\",\"lack\",\"growth\",\"27\",\"2011\",\"related\",\"my\",\"counsel\",\"chris\",\"crimes\",\"weekend\",\"remains\",\"guns\",\"per\",\"opportunity\",\"effect\",\"period\",\"dead\",\"common\",\"canada\",\"2018\",\"rest\",\"o\",\"accept\",\"abortion\",\"21\",\"promised\",\"includes\",\"body\",\"test\",\"daughter\",\"22\",\"w\",\"operation\",\"friend\",\"status\",\"lies\",\"caused\",\"buy\",\"showing\",\"publicly\",\"considering\",\"17\",\"rich\",\"killing\",\"activists\",\"attacked\",\"2008\",\"summit\",\"looks\",\"willing\",\"raise\",\"announcement\",\"replace\",\"kim\",\"higher\",\"during\",\"credit\",\"worth\",\"facts\",\"lawsuit\",\"gone\",\"costs\",\"supporting\",\"significant\",\"worse\",\"minority\",\"lose\",\"inc\",\"establishment\",\"additional\",\"towards\",\"2010\",\"xi\",\"environmental\",\"spicer\",\"jan\",\"citing\",\"multiple\",\"sense\",\"opposed\",\"join\",\"capture\",\"lawyers\",\"declared\",\"arab\",\"from\",\"particularly\",\"mind\",\"income\",\"gay\",\"cyber\",\"becoming\",\"fair\",\"red\",\"macron\",\"referring\",\"noted\",\"directly\",\"quite\",\"challenge\",\"socalled\",\"mexican\",\"fiscal\",\"arms\",\"followed\",\"block\",\"chicago\",\"banks\",\"supporter\",\"remember\",\"seem\",\"vladimir\",\"journalists\",\"arrest\",\"israeli\",\"cover\",\"appear\",\"putting\",\"other\",\"jerusalem\",\"electoral\",\"regarding\",\"michigan\",\"trial\",\"sept\",\"necessary\",\"legislative\",\"thinks\",\"jr\",\"approval\",\"ohio\",\"association\",\"kids\",\"decide\",\"begin\",\"seriously\",\"shut\",\"rival\",\"oct\",\"beijing\",\"alliance\",\"regime\",\"deep\",\"cuba\",\"upon\",\"sea\",\"green\",\"finance\",\"mostly\",\"ended\",\"communities\",\"subject\",\"cooperation\",\"coal\",\"accusations\",\"turkish\",\"stage\",\"eastern\",\"rise\",\"was\",\"joined\",\"battle\",\"launched\",\"ally\",\"responsibility\",\"propaganda\",\"jeff\",\"28\",\"winning\",\"steve\",\"over\",\"most\",\"aimed\",\"site\",\"reporting\",\"language\",\"briefing\",\"migrants\",\"iranian\",\"bureau\",\"tough\",\"26\",\"meetings\",\"helping\",\"puerto\",\"hollywood\",\"both\",\"racism\",\"couple\",\"trust\",\"afghanistan\",\"blame\",\"ran\",\"probe\",\"price\",\"caught\",\"investigating\",\"communications\",\"accounts\",\"moving\",\"break\",\"discussed\",\"scheduled\",\"dc\",\"goal\",\"bannon\",\"facing\",\"de\",\"follow\",\"deals\",\"classified\",\"available\",\"transgender\",\"revealed\",\"required\",\"infrastructure\",\"experience\",\"murder\",\"largely\",\"ukraine\",\"positions\",\"homeland\",\"separate\",\"estate\",\"yemen\",\"various\",\"reasons\",\"powers\",\"meant\",\"acting\",\"guilty\",\"embassy\",\"approach\",\"version\",\"soldiers\",\"be\",\"ruled\",\"rejected\",\"professor\",\"manager\",\"constitutional\",\"kill\",\"average\",\"supposed\",\"23\",\"tweets\",\"stated\",\"carry\",\"aides\",\"wikileaks\",\"pointed\",\"mueller\",\"conversation\",\"russians\",\"those\",\"pyongyang\",\"allowing\",\"too\",\"throughout\",\"shared\",\"lie\",\"investigations\",\"emergency\",\"did\",\"controversial\",\"sex\",\"resolution\",\"pushed\",\"nbc\",\"pick\",\"lying\",\"decisions\",\"light\",\"hurt\",\"bit\",\"will\",\"uk\",\"tensions\",\"felt\",\"positive\",\"broke\",\"damage\",\"condition\",\"appeals\",\"appeal\",\"amount\",\"property\",\"libya\",\"paying\",\"pm\",\"fully\",\"doubt\",\"amid\",\"alabama\",\"values\",\"piece\",\"heart\",\"born\",\"billionaire\",\"solution\",\"scott\",\"rightwing\",\"hill\",\"benefits\",\"angry\",\"hannity\",\"annual\",\"40\",\"present\",\"iowa\",\"sales\",\"hopes\",\"familiar\",\"cast\",\"abc\",\"prosecutors\",\"alone\",\"29\",\"activities\",\"steps\",\"im\",\"figure\",\"female\",\"bangladesh\",\"claiming\",\"removed\",\"promise\",\"played\",\"focused\",\"faced\",\"explain\",\"argued\",\"veterans\",\"islam\",\"targeted\",\"strike\",\"jones\",\"designed\",\"written\",\"technology\",\"reduce\",\"mission\",\"arizona\",\"2009\",\"stories\",\"increased\",\"demand\",\"voice\",\"treasury\",\"markets\",\"literally\",\"game\",\"addition\",\"fall\",\"beginning\",\"warning\",\"conspiracy\",\"changed\",\"career\",\"moved\",\"lebanon\",\"identified\",\"opponents\",\"african\",\"works\",\"romney\",\"picture\",\"dropped\",\"judges\",\"cited\",\"borders\",\"treatment\",\"jail\",\"airport\",\"lady\",\"conditions\",\"carson\",\"under\",\"resources\",\"housing\",\"compared\",\"brown\",\"partner\",\"humanitarian\",\"featured\",\"carried\",\"zone\",\"religion\",\"seat\",\"happy\",\"sort\",\"server\",\"highly\",\"decade\",\"admitted\",\"warren\",\"restrictions\",\"erdogan\",\"document\",\"60\",\"conduct\",\"bringing\",\"sarah\",\"internal\",\"thats\",\"territory\",\"require\",\"please\",\"collusion\",\"asia\",\"stopped\",\"particular\",\"bloc\",\"totally\",\"or\",\"bid\",\"institute\",\"closed\",\"unless\",\"possibility\",\"playing\",\"losing\",\"ceo\",\"surprise\",\"martin\",\"investors\",\"victim\",\"matters\",\"starting\",\"planning\",\"partners\",\"hospital\",\"spain\",\"girl\",\"discussion\",\"nine\",\"msnbc\",\"australia\",\"possibly\",\"ongoing\",\"none\",\"hotel\",\"analysis\",\"aide\",\"age\",\"requests\",\"below\",\"2017realdonaldtrump\",\"pentagon\",\"loss\",\"hacking\",\"31\",\"thank\",\"drew\",\"bomb\",\"africa\",\"very\",\"hell\",\"bills\",\"province\",\"suspected\",\"basis\",\"systems\",\"dozens\",\"whatever\",\"note\",\"marriage\",\"study\",\"specific\",\"save\",\"allegedly\",\"affordable\",\"built\",\"secure\",\"receive\",\"miles\",\"brussels\",\"sometimes\",\"paper\",\"minutes\",\"judicial\",\"intended\",\"entering\",\"audience\",\"scene\",\"racial\",\"pushing\",\"militant\",\"biden\",\"negative\",\"benefit\",\"behalf\",\"thanks\",\"seemed\",\"opened\",\"defeat\",\"clean\",\"ben\",\"frontrunner\",\"campus\",\"islamist\",\"involvement\",\"prepared\",\"explained\",\"disaster\",\"confirmation\",\"arrived\",\"offensive\",\"kushner\",\"politically\",\"kremlin\",\"judiciary\",\"faces\",\"eric\",\"don\",\"t\",\"kept\",\"eventually\",\"numerous\",\"prior\",\"payments\",\"names\",\"worried\",\"watching\",\"illegally\",\"ethnic\",\"destroy\",\"delegates\",\"dec\",\"date\",\"correct\",\"campaigns\",\"streets\",\"sitting\",\"leftist\",\"greater\",\"vowed\",\"progressive\",\"field\",\"wait\",\"vietnam\",\"jim\",\"asylum\",\"associated\",\"nobody\",\"prosecutor\",\"park\",\"conducted\",\"reforms\",\"prices\",\"failure\",\"drive\",\"ad\",\"ones\",\"levels\",\"assembly\",\"activist\",\"immediate\",\"backing\",\"attend\",\"testimony\",\"inauguration\",\"reportedly\",\"highest\",\"detained\",\"capitol\",\"ultimately\",\"evening\",\"agent\",\"thinking\",\"stance\",\"management\",\"assistance\",\"extremely\",\"estimated\",\"camp\",\"attempted\",\"training\",\"parenthood\",\"remove\",\"door\",\"assad\",\"getty\",\"dismissed\",\"advance\",\"stood\",\"rico\",\"abuse\",\"standards\",\"richard\",\"listen\",\"innocent\",\"resignation\",\"increasingly\",\"confidence\",\"wisconsin\",\"palestinian\",\"natural\",\"mattis\",\"choose\",\"administrations\",\"truly\",\"prove\",\"drop\",\"blamed\",\"polling\",\"path\",\"dr\",\"christmas\",\"aware\",\"spend\",\"opening\",\"missiles\",\"jersey\",\"cash\",\"tom\",\"republic\",\"interference\",\"boost\",\"keeping\",\"institutions\",\"sheriff\",\"seats\",\"check\",\"treated\",\"platform\",\"communist\",\"shown\",\"mention\",\"rape\",\"denies\",\"wounded\",\"liberals\",\"happens\",\"contact\",\"attempts\",\"investigators\",\"hurricane\",\"himself\",\"happening\",\"guard\",\"fuel\",\"commitment\",\"code\",\"civilians\",\"tells\",\"taiwan\",\"raising\",\"players\",\"otherwise\",\"neither\",\"lines\",\"illinois\",\"blocked\",\"station\",\"places\",\"limit\",\"providing\",\"looked\",\"citizen\",\"actual\",\"suspect\",\"strongly\",\"club\",\"attended\",\"appointed\",\"alternative\",\"search\",\"easy\",\"committees\",\"vehicle\",\"sweden\",\"potentially\",\"culture\",\"coup\",\"broadcast\",\"signs\",\"serving\",\"gives\",\"carrying\",\"retired\",\"production\",\"fighters\",\"detroit\",\"conway\",\"ballistic\",\"attacking\",\"venezuela\",\"strategic\",\"screenshot\",\"products\",\"oh\",\"obvious\",\"unlikely\",\"tehran\",\"orders\",\"hes\",\"congressman\",\"wealthy\",\"rates\",\"limited\",\"lee\",\"grand\",\"diplomats\",\"road\",\"epa\",\"activity\",\"veteran\",\"film\",\"21wire\",\"resign\",\"linked\",\"learned\",\"businessman\",\"schumer\",\"pennsylvania\",\"off\",\"injured\",\"failing\",\"unclear\",\"successful\",\"donors\",\"christie\",\"does\",\"strikes\",\"standard\",\"sending\",\"can\",\"ballot\",\"wearing\",\"praised\",\"minimum\",\"manafort\",\"floor\",\"boy\",\"visa\",\"presence\",\"appearance\",\"sick\",\"seeing\",\"overseas\",\"heavily\",\"temporary\",\"prominent\",\"homes\",\"involving\",\"investigate\",\"banned\",\"relief\",\"japanese\",\"discrimination\",\"consequences\",\"abe\",\"session\",\"fine\",\"dialogue\",\"35\",\"youtube\",\"waiting\",\"spread\",\"simple\",\"proposals\",\"hour\",\"fed\",\"aliens\",\"st\",\"pledged\",\"ivanka\",\"gender\",\"definitely\",\"chancellor\",\"proof\",\"projects\",\"heads\",\"drugs\",\"difference\",\"chair\",\"sell\",\"ross\",\"recognize\",\"have\",\"controversy\",\"posts\",\"medicaid\",\"girls\",\"widely\",\"magazine\",\"knowledge\",\"environment\",\"deeply\",\"corp\",\"abroad\",\"surveillance\",\"shortly\",\"links\",\"graham\",\"convicted\",\"analysts\",\"interior\",\"hezbollah\",\"hall\",\"firms\",\"wonder\",\"smith\",\"setting\",\"sector\",\"quoted\",\"hoped\",\"hampshire\"],\"legendgroup\":\"\",\"marker\":{\"color\":\"#636efa\",\"symbol\":\"circle\"},\"mode\":\"markers\",\"name\":\"\",\"showlegend\":false,\"x\":[0.017432283610105515,-0.07392577826976776,2.1273224353790283,-0.6435444951057434,1.103001594543457,1.1212455034255981,0.511756420135498,-0.2222049981355667,0.7190858125686646,0.36111947894096375,-0.03543408215045929,0.03250996023416519,-0.3723016381263733,0.1096605435013771,0.1248377114534378,1.2512743473052979,0.1810005009174347,0.43258267641067505,0.7077058553695679,-0.35619857907295227,0.011883094906806946,-1.3522517681121826,0.18281401693820953,0.9845411777496338,1.0537782907485962,0.4057762324810028,1.0703750848770142,-1.5980406999588013,0.12964048981666565,0.23295603692531586,0.5222975611686707,0.5366786122322083,0.66520756483078,-0.2518446743488312,-0.34732308983802795,0.6346595883369446,0.5427197813987732,0.2426593005657196,-1.1796504259109497,1.4200173616409302,-1.6485775709152222,0.6585835218429565,1.0716015100479126,-0.005231523886322975,1.4184051752090454,-0.17082788050174713,-1.683194875717163,0.9420121908187866,0.4118718206882477,0.05542787164449692,-0.14593292772769928,-0.24703790247440338,-0.026045510545372963,0.44991335272789,0.1667928695678711,0.08420518040657043,0.4415782392024994,-0.3700737953186035,0.0783144012093544,0.564294159412384,0.15116459131240845,-0.13828815519809723,0.17749853432178497,-1.6235053539276123,-0.4272126853466034,0.4009089767932892,1.7819762229919434,-1.0491273403167725,0.04151645302772522,-0.21872788667678833,1.6012723445892334,-0.7866660356521606,-0.1590380221605301,0.3274683356285095,-0.09917370975017548,-0.8942492604255676,0.26935407519340515,-0.27261990308761597,-1.9092458486557007,0.39861175417900085,1.0744571685791016,-0.07136493176221848,-0.1546553075313568,6.526956081390381,-0.3660954236984253,-0.4363236129283905,0.10834499448537827,-0.45237207412719727,0.13980697095394135,0.5670321583747864,-0.4048283100128174,0.1994888335466385,-0.06889951229095459,0.2710224986076355,-0.6202845573425293,0.5198569297790527,1.4285703897476196,1.2551522254943848,-0.7410019636154175,-0.1461048722267151,-0.8871933221817017,0.8988165259361267,-0.5378479361534119,-1.151935338973999,-0.1748579442501068,0.41355690360069275,-1.1857143640518188,2.701002836227417,0.09027444571256638,-0.47178953886032104,0.5514007210731506,0.28166618943214417,-1.2517839670181274,-0.05303104221820831,0.9815824031829834,2.9684536457061768,0.04014885053038597,-0.27904996275901794,-0.29021063446998596,0.21037311851978302,0.4467732906341553,0.34015530347824097,3.0724081993103027,-0.9202060103416443,3.097402572631836,-1.0603508949279785,-0.20621775090694427,0.6784446239471436,-0.4951823949813843,2.50146484375,0.050953373312950134,0.404837429523468,0.6261465549468994,0.8174521923065186,0.7425172328948975,-0.5725617408752441,-0.9066030383110046,0.30795925855636597,0.0279252827167511,-0.14618387818336487,0.19859062135219574,1.191440463066101,0.36336618661880493,-0.19561579823493958,0.2498658001422882,-0.5376818180084229,-0.3362252712249756,0.3212832510471344,0.11217830330133438,0.28905826807022095,0.8022522330284119,0.8151344060897827,0.02489677257835865,-0.24980458617210388,-0.07347879558801651,0.05771284177899361,-0.2984432578086853,-0.17020969092845917,0.4130135774612427,-0.5686762928962708,-0.20715534687042236,-0.30385616421699524,-0.6900296211242676,0.5786862373352051,0.7137173414230347,0.2493552714586258,0.24489262700080872,-0.27427178621292114,-0.17255724966526031,-0.36399704217910767,-0.2973397970199585,-0.62603360414505,-1.279067039489746,-1.1127296686172485,-0.2627502977848053,-0.7018370032310486,-0.3901359736919403,-0.05026914179325104,-0.3933945894241333,-1.310058832168579,1.1209895610809326,0.038478411734104156,0.180662140250206,2.055149793624878,0.6068432331085205,-0.4498753249645233,-1.8287484645843506,0.6711709499359131,1.4919989109039307,0.8579070568084717,0.2110883742570877,0.11188973486423492,-0.6586153507232666,0.1604282259941101,0.19941599667072296,-0.2739950120449066,-0.36604544520378113,0.2903750538825989,0.43238866329193115,0.6078487634658813,0.3067600131034851,-1.4261448383331299,-0.8586841225624084,0.30978891253471375,-0.7581045627593994,-0.11949120461940765,-0.44681882858276367,-0.35485556721687317,0.7188634872436523,-0.4252606928348541,-0.005441797431558371,-0.09541957825422287,0.84941166639328,0.5068060755729675,0.12676480412483215,-0.5419748425483704,-1.9760417938232422,-0.640900731086731,0.5067305564880371,0.0809304341673851,1.0858210325241089,-0.31390300393104553,0.7264383435249329,-0.774529218673706,-0.3966185748577118,0.3707177937030792,-0.2996934950351715,0.030991222709417343,-0.7639328837394714,0.24897970259189606,-1.358264684677124,-0.1537836790084839,1.0312849283218384,-0.18461161851882935,0.1361728012561798,0.5234798789024353,-1.1326887607574463,1.921276330947876,-2.383390426635742,-0.35310834646224976,-0.058986421674489975,-0.008206923492252827,-1.1322598457336426,-0.2025732696056366,-0.14385545253753662,-0.5173392295837402,-0.3746659457683563,0.2566838562488556,2.431035041809082,0.1455807387828827,0.06061265245079994,-0.8329803347587585,-0.7931499481201172,-0.3475697338581085,0.5392811894416809,-1.5813308954238892,-0.13834142684936523,-0.5781578421592712,0.8327639698982239,1.0637930631637573,-0.7123171091079712,0.24172788858413696,-0.3174799680709839,0.8094589710235596,0.44678348302841187,-0.9507609605789185,-1.082228422164917,1.8117120265960693,0.16793987154960632,1.432337999343872,1.3555353879928589,-0.2815592885017395,0.7006179690361023,-0.9822145700454712,-0.1357094943523407,-0.986453115940094,-0.5316919684410095,0.004569858778268099,-1.6927601099014282,0.4008457064628601,0.18661746382713318,-1.2025091648101807,-1.0645073652267456,-0.21118737757205963,-0.4819103479385376,0.6809316277503967,-0.005547838285565376,0.3385310471057892,-0.36839744448661804,-0.11322963237762451,-0.03400099277496338,-0.8004554510116577,0.002633598865941167,0.11572971194982529,-0.11314864456653595,-0.27090156078338623,-0.2190117985010147,0.28399404883384705,0.20526611804962158,0.19390204548835754,-1.0919443368911743,-3.669320583343506,-1.3343535661697388,-1.0125927925109863,0.27269789576530457,-0.8070863485336304,0.15903569757938385,0.16919805109500885,0.993405282497406,-0.5242643356323242,0.3685978055000305,0.06539943814277649,0.6860146522521973,1.3468061685562134,0.20294086635112762,-0.031261835247278214,-1.4809372425079346,-0.4762105941772461,0.1593841016292572,0.7183370590209961,-0.3333296775817871,0.08594450354576111,1.274297833442688,0.6857552528381348,-0.698803722858429,-1.7945150136947632,0.8787899017333984,-0.2138630449771881,0.14672601222991943,0.3182729482650757,1.8984858989715576,1.4625847339630127,0.1658695638179779,0.8128829002380371,0.6063082218170166,0.16292314231395721,0.09944744408130646,-0.1362980306148529,0.5837044715881348,-0.4527684450149536,0.3144923448562622,-0.3334439694881439,0.11899308860301971,0.026020381599664688,0.18482305109500885,0.974676787853241,-0.3159632384777069,-0.14325302839279175,0.6554446816444397,-0.587558388710022,-0.8385962843894958,1.0066410303115845,-0.6678900122642517,-1.0329928398132324,0.15029722452163696,0.13670943677425385,0.4038165211677551,0.0411619134247303,-0.6638022065162659,-0.18306772410869598,0.7861335277557373,-0.18177741765975952,-0.457858145236969,0.39812764525413513,-0.3746964633464813,-0.8202083110809326,0.5288369655609131,-0.10260836035013199,-0.8107396960258484,0.862737238407135,0.5871137976646423,-0.09355832636356354,-0.3794775903224945,-0.820111095905304,-1.3429083824157715,-0.376354455947876,0.6248874664306641,-0.2961480915546417,1.5649539232254028,0.3307875096797943,0.4023215174674988,-0.6528540253639221,0.27274709939956665,0.27123430371284485,-0.9504831433296204,-0.41827040910720825,-0.8682876825332642,-0.6404030919075012,0.16701684892177582,-0.9415870308876038,0.47175467014312744,-0.5814347267150879,-0.8952959179878235,-2.1580023765563965,-0.2046995311975479,0.177509605884552,0.1713780015707016,-0.12114180624485016,0.6863154768943787,-0.5407746434211731,0.1321193277835846,-0.19746369123458862,0.47679755091667175,-0.8010216951370239,-0.20274467766284943,-0.6930953860282898,0.020945852622389793,-0.5267134308815002,-1.037864089012146,-0.4062386453151703,0.08611273765563965,0.16847820580005646,-0.0767800584435463,0.6680893898010254,0.07475048303604126,0.16949357092380524,-0.16560590267181396,1.8531697988510132,0.32377249002456665,-5.093734264373779,0.3852221369743347,0.4524518847465515,0.260547012090683,-0.29460304975509644,-0.645082414150238,-0.06657841056585312,0.6977255940437317,-3.7250823974609375,0.0300906915217638,0.20730218291282654,-0.15602457523345947,0.6179963946342468,0.8654860258102417,1.2783981561660767,0.06476784497499466,0.4474533498287201,0.3544769287109375,0.2727745473384857,0.3094189763069153,-2.9838902950286865,1.1805932521820068,1.0384682416915894,0.4466945230960846,1.9035773277282715,0.239863321185112,-0.7085084915161133,0.031993091106414795,-0.649228572845459,-0.14814162254333496,0.9750385284423828,-0.4041682183742523,-0.40199264883995056,-0.22188983857631683,-2.5623419284820557,-0.2227020561695099,-0.6674376130104065,0.13631458580493927,-0.13794124126434326,1.499371886253357,-0.44157353043556213,1.00116765499115,0.3478142321109772,-0.8063297867774963,0.7133190631866455,-1.1227964162826538,0.7368749380111694,-0.42524319887161255,0.37258225679397583,0.08564753830432892,0.030792683362960815,-0.08542461693286896,-0.059977129101753235,0.46552640199661255,1.030156135559082,0.2994869351387024,-0.28301721811294556,-0.9488981366157532,0.0465092733502388,0.06680893898010254,0.11216534674167633,-0.329179972410202,-0.9334415197372437,-0.08897523581981659,-0.4055634140968323,-0.3159131705760956,1.614441990852356,1.1206088066101074,-0.524080216884613,-0.2256777137517929,-0.5554400086402893,-0.170368954539299,-0.68897545337677,-0.34786713123321533,-0.7702249884605408,-0.37137576937675476,-0.6801305413246155,0.9322385787963867,0.2462070733308792,-0.7680833339691162,0.3912941515445709,-1.679057002067566,-0.7077868580818176,0.6367834806442261,-0.5093863010406494,-0.5137894749641418,1.0287054777145386,0.22753621637821198,0.5023579597473145,-0.768001139163971,-0.5857803821563721,1.515602469444275,-3.0665061473846436,0.5785427093505859,2.2616937160491943,1.3271886110305786,-0.30054545402526855,0.5833297967910767,0.5438326001167297,-0.6451229453086853,-0.19695907831192017,1.3025017976760864,0.44291508197784424,2.4948432445526123,1.4238066673278809,-0.4290156066417694,0.5428752303123474,-0.15512171387672424,-0.11525396257638931,-0.7669410705566406,0.19438070058822632,0.6861702799797058,0.5933094024658203,-0.5392148494720459,0.6056276559829712,0.7955120205879211,-0.6742130517959595,0.4128968119621277,-0.0009572532144375145,-1.70770263671875,-0.7825568914413452,-1.758631706237793,0.7212592959403992,0.4018361270427704,-0.46854645013809204,0.24856851994991302,0.21315497159957886,-0.4670172929763794,0.24975501000881195,0.9054287075996399,-0.5034622550010681,-1.1668835878372192,-0.33634358644485474,1.030106544494629,0.014908988028764725,-0.2378721535205841,0.39604485034942627,0.05796772986650467,0.6564723253250122,1.0636448860168457,1.5762064456939697,0.9628758430480957,-0.7506930828094482,-1.6485226154327393,-0.19465835392475128,0.6738139986991882,0.2480497807264328,1.2124093770980835,1.0306284427642822,-0.8661069273948669,-0.41382667422294617,2.0629940032958984,-0.767077624797821,-0.24402055144309998,-0.8102445006370544,0.28690624237060547,-0.5341840982437134,-0.7906441688537598,0.05831907317042351,-0.23533956706523895,-0.1760202944278717,0.3072815537452698,0.08590639382600784,0.8101050853729248,0.23001350462436676,2.338838577270508,-1.0659375190734863,1.5635392665863037,0.8523741960525513,0.6300269365310669,-1.1060627698898315,-0.4975373446941376,-1.3952738046646118,-0.3389546871185303,0.06245534494519234,0.8338730931282043,-1.060599684715271,-1.9037539958953857,0.19497230648994446,-0.4137365520000458,-1.8821113109588623,-0.18747569620609283,0.00590618047863245,0.7858709096908569,-0.36964306235313416,0.3223728537559509,0.9133895039558411,-2.103743314743042,0.058453455567359924,-0.8593117594718933,1.5525966882705688,-0.29238569736480713,0.18245160579681396,0.2997552156448364,-0.06185650825500488,-0.5389769673347473,0.11844895035028458,-0.2161407321691513,-0.0709204450249672,-1.4098117351531982,-0.46372929215431213,-0.8433353304862976,0.22016684710979462,0.8637981414794922,-0.38974428176879883,-0.9200490117073059,-1.209535837173462,-0.12161065638065338,1.6176260709762573,-1.1348541975021362,-1.3758893013000488,0.6682210564613342,1.1654942035675049,-0.7689148187637329,0.31125494837760925,-1.5147441625595093,-0.4190220236778259,1.438391089439392,-0.026000136509537697,-0.3789309561252594,-2.333979845046997,-1.1007634401321411,0.20293676853179932,0.23471668362617493,-2.059201955795288,0.617639422416687,1.1886136531829834,-0.36381858587265015,-0.689535915851593,-0.43227261304855347,0.19212566316127777,0.7534624934196472,-2.700042963027954,-0.21979351341724396,0.058594364672899246,-0.32184886932373047,-1.6071171760559082,0.8971720337867737,0.8974183201789856,1.0645956993103027,-1.455374836921692,0.12879060208797455,0.3239186704158783,-0.03703142702579498,-1.1011579036712646,-0.053095560520887375,0.1554553210735321,-0.4881950318813324,-2.085300922393799,0.030059989541769028,-1.4715110063552856,0.37963080406188965,0.26385125517845154,-1.188598394393921,0.11517883837223053,0.49780571460723877,-1.3532458543777466,-0.011636628769338131,0.3100135326385498,0.9038364291191101,-0.618406355381012,1.392768383026123,0.43617361783981323,-0.1562177538871765,-0.8282263875007629,-0.9180617928504944,1.6960176229476929,0.7135355472564697,-3.9235217571258545,0.7695333361625671,0.35460883378982544,-0.22682547569274902,0.727440357208252,-0.18575477600097656,1.554134488105774,-0.06934748589992523,0.6864898800849915,0.9094794988632202,-0.027787018567323685,0.3302074372768402,0.044050171971321106,0.41711002588272095,0.6381033062934875,-0.2490469217300415,-0.043706003576517105,-0.287799209356308,-0.5267363786697388,-0.9853715896606445,0.6083739995956421,3.1627328395843506,-1.1719108819961548,-1.3608897924423218,0.12456660717725754,-0.7288512587547302,0.5283253788948059,0.4492031931877136,0.1354195922613144,-1.604788064956665,0.5202503204345703,0.20853541791439056,0.10624154657125473,-0.7324647903442383,0.4313803017139435,-0.20132318139076233,0.5214262008666992,-1.0855501890182495,0.14399150013923645,-0.4535880386829376,-0.06968295574188232,-1.1535673141479492,-0.7584107518196106,0.7802392840385437,0.40479010343551636,-0.27627167105674744,0.0070564355701208115,1.4145879745483398,0.6739105582237244,0.8099346160888672,0.2685582637786865,0.010135561227798462,-2.1059012413024902,0.0674581378698349,1.3885130882263184,-0.18836231529712677,-0.20793941617012024,-0.034449636936187744,-0.015543626621365547,0.33847594261169434,-0.4922609031200409,-0.9806557893753052,0.33692094683647156,-2.4352433681488037,0.8310971856117249,0.00386018306016922,-2.187558174133301,-0.047207776457071304,0.30099156498908997,0.39171165227890015,-0.6550297737121582,0.49904707074165344,3.3907504081726074,0.5423029661178589,-0.299916535615921,-0.458638995885849,0.1810297966003418,0.7855395078659058,-1.08005952835083,0.21130716800689697,-0.7582600712776184,-0.1743873804807663,1.9905998706817627,1.1350661516189575,-0.7138679027557373,-0.48197150230407715,0.06966143846511841,0.5290943384170532,0.5961924195289612,-1.2678056955337524,0.46997684240341187,-0.17040395736694336,-0.09020496904850006,0.3459360897541046,-1.1606619358062744,0.4592362344264984,-1.863434910774231,0.6567709445953369,-0.004737702198326588,0.03377571702003479,0.31342217326164246,-0.6315400004386902,-0.8966106176376343,0.013442299328744411,-1.0789616107940674,0.35076719522476196,-0.6011303663253784,-1.4810309410095215,0.12000302970409393,-0.9081668853759766,-2.0175464153289795,-0.18247942626476288,0.4487450420856476,0.2670172452926636,-0.5293325185775757,-0.3262408375740051,0.12883351743221283,-0.0004783685435540974,-0.9105053544044495,1.581650733947754,-0.17295774817466736,-1.7674248218536377,-0.02912077121436596,0.25483179092407227,0.14833098649978638,0.42677220702171326,0.35801663994789124,-0.0725504606962204,0.4149162173271179,0.9734287858009338,-0.12694942951202393,0.7093968987464905,0.8480598330497742,-0.31330394744873047,0.4578212797641754,0.05614706501364708,0.3196406066417694,0.4360044300556183,0.6268317103385925,-1.0543142557144165,0.14823487401008606,-0.9093142747879028,0.20695249736309052,-0.2947014272212982,0.4758186936378479,0.8699338436126709,0.25082841515541077,-0.34541982412338257,-0.43840891122817993,-0.3948938846588135,-0.05771892890334129,0.17855386435985565,-0.3141595721244812,1.7155060768127441,1.1100959777832031,0.08709236234426498,0.24809689819812775,-1.052893042564392,-2.457524299621582,0.18285511434078217,0.1990707665681839,-0.05565839260816574,0.1637152135372162,1.7755249738693237,0.9520030617713928,-0.47385498881340027,-0.19297952950000763,0.9633049964904785,-0.6586951017379761,2.171769857406616,-3.298532724380493,-0.055112075060606,1.0026119947433472,3.6972906589508057,-0.8078420162200928,0.6785441040992737,0.5712364315986633,-0.4866876006126404,-0.39550942182540894,-1.298656940460205,-0.365606427192688,-0.3078117072582245,0.7920060753822327,0.19716709852218628,0.24029502272605896,-1.295709252357483,0.25417864322662354,-1.4248064756393433,-0.44675809144973755,-0.0709083080291748,0.30965161323547363,-0.4785254895687103,-0.29475852847099304,0.03106258623301983,0.5323571562767029,0.15255552530288696,-0.18780019879341125,-0.2664117217063904,0.5150155425071716,-0.17940135300159454,-0.0667366161942482,0.1992182731628418,0.1505516916513443,0.8930523991584778,-0.12545433640480042,0.9895153641700745,0.980500340461731,-0.15389429032802582,-1.414175271987915,0.6795834302902222,-0.2612466812133789,0.2586662471294403,-1.1203351020812988,-1.3750929832458496,0.31334853172302246,0.6887384057044983,-0.18473869562149048,-0.6991837024688721,-0.04739959537982941,-0.2313203364610672,-1.2288687229156494,-0.04340025782585144,1.3531229496002197,-0.10765492916107178,-0.41310107707977295,-0.21886751055717468,1.464352011680603,-0.8451427817344666,-1.1275395154953003,0.02039993368089199,-0.8269492983818054,-0.27341750264167786,-0.391133189201355,-0.13598504662513733,0.38112765550613403,1.2743220329284668,0.6749531626701355,0.2454122006893158,-2.7457659244537354,-2.004531145095825,0.5407951474189758,-1.1249747276306152,-0.11079747974872589,-0.8475858569145203,-0.7005263566970825,-0.008661224506795406,-0.3158164918422699,-1.297313928604126,0.018521398305892944,-0.2654170095920563,-0.755976140499115,1.7346488237380981,-0.22138433158397675,0.2630003094673157,-0.10352057963609695,-0.7417111992835999,-0.23234620690345764,0.29503583908081055,0.5597001314163208,-0.8597150444984436,-0.31902003288269043,-1.4086990356445312,-0.6834853291511536,0.025197086855769157,0.2008078396320343,-0.9661338329315186,0.4456833600997925,-0.5244003534317017,0.5739952921867371,0.5738115310668945,2.156611919403076,-0.29449403285980225,-1.2992873191833496,-1.1583372354507446,1.1765568256378174,-1.101864218711853,0.22040146589279175,0.46316972374916077,-0.9429085850715637,0.07387467473745346,0.5783983469009399,0.9057460427284241,0.8963030576705933,0.7923009991645813,0.4260082542896271,0.32186004519462585,-0.47427240014076233,1.8070727586746216,-0.37135884165763855,0.34681466221809387,0.3754956126213074,0.9878325462341309,-0.0026547773741185665,-1.0880070924758911,0.7733293771743774,-0.05831713601946831,1.9012705087661743,0.45422694087028503,-0.09072984009981155,0.9797366857528687,0.8658530712127686,-0.8380687236785889,0.021082503721117973,-0.4809788763523102,-0.007473299279808998,4.7468180656433105,-0.6019364595413208,-0.11444501578807831,2.2892985343933105,-1.1055251359939575,0.29924294352531433,0.11885817348957062,0.7817448973655701,0.695550262928009,0.5146881937980652,-0.29137158393859863,0.8096386194229126,0.38989782333374023,0.6108155846595764,-1.349438190460205,-0.30978402495384216,-0.25320109724998474,-0.49776116013526917,-1.4314082860946655,-0.18348516523838043,0.7808060050010681,0.510673999786377,-0.4863877594470978,0.2567719519138336,0.36878934502601624,0.26588448882102966,0.6009789109230042,0.1338336169719696,-1.4646353721618652,0.3153989911079407,0.8920995593070984,-0.31535255908966064,-0.29267022013664246,0.2685585618019104,-1.0225976705551147,0.05468412861227989,-0.9446167945861816,-2.132026433944702,-0.7808212637901306,1.1695736646652222,-0.19550736248493195,0.26292935013771057,0.40973028540611267,-0.038875699043273926,0.07288944721221924,1.035437822341919,1.5189330577850342,0.9182471036911011,0.508383572101593,-0.35139939188957214,-0.6130557060241699,1.0079907178878784,2.986896276473999,0.008578024804592133,0.33079832792282104,-0.21360066533088684,0.15757609903812408,0.002275652252137661,-0.02056807652115822,1.004756212234497,0.6184283494949341,-0.5405347347259521,0.001982062356546521,-0.6269168853759766,-0.40191173553466797,3.5306179523468018,0.04379866644740105,-0.9258511066436768,-0.7464574575424194,0.601274311542511,-0.023574283346533775,0.9704685807228088,0.009529633447527885,1.720290184020996,-1.1517002582550049,0.8578141927719116,0.08593965321779251,1.8183040618896484,0.3220292031764984,-1.0725058317184448,0.0777609720826149,-0.0668591633439064,-0.34975090622901917,-0.53404301404953,0.6155992150306702,1.8109729290008545,-1.0756707191467285,0.6248471140861511,-0.7862444519996643,-1.88845694065094,0.4385838508605957,-0.07249510288238525,-1.404678225517273,0.2611399292945862,1.0257236957550049,-1.0320537090301514,1.3666876554489136,0.1273920089006424,0.495225191116333,0.664762556552887,0.614611804485321,-1.0747510194778442,0.990197479724884,-1.4559918642044067,0.16768880188465118,0.5409142971038818,-0.2674559950828552,-0.2647533118724823,0.5293191075325012,-1.0545388460159302,-0.1751154661178589,0.6838882565498352,0.8025609254837036,0.10439831018447876,-0.3143199682235718,-0.840618908405304,1.5304251909255981,0.19009384512901306,-0.5951938033103943,-0.08918216824531555,-0.7275987267494202,-0.315091997385025,-1.8326486349105835,-0.03244217112660408,-0.4506480395793915,0.6389428973197937,-1.5297805070877075,-1.117949366569519,-1.5258249044418335,-4.277960777282715,-0.14933963119983673,-1.3421037197113037,0.5356298685073853,0.39168399572372437,-0.9616309404373169,0.4185359477996826,0.007133387494832277,-0.05780995264649391,-0.21879079937934875,0.6254591941833496,0.060152940452098846,-2.110833168029785,-0.07896361500024796,0.13503777980804443,0.8006934523582458,0.7120877504348755,-0.7337360382080078,-0.815918505191803,0.4454503357410431,-0.14702999591827393,1.7100119590759277,0.9109724760055542,0.20694907009601593,0.6759797930717468,-1.0385046005249023,0.3375299572944641,0.02152477577328682,0.5535268783569336,2.585698366165161,0.31007519364356995,-0.6730342507362366,0.31973329186439514,-0.3566536605358124,0.4329372048377991,0.175439715385437,0.015667831525206566,0.6709203720092773,0.1257203072309494,0.5721304416656494,0.6761334538459778,-0.3295973539352417,2.1017072200775146,-0.33156803250312805,-0.9398408532142639,-0.4729103744029999,1.0990766286849976,-2.237783908843994,0.5924515128135681,0.8020963072776794,-0.11810501664876938,0.07765176147222519,-2.632516384124756,-0.15272469818592072,0.10936834663152695,1.8346095085144043,0.20270498096942902,-1.7306231260299683,-1.3328386545181274,0.46410369873046875,0.16446112096309662,-2.4096710681915283,2.183804512023926,0.4921322166919708,0.5789013504981995,-0.12738622725009918,0.6475220322608948,-0.15763132274150848,0.4839663505554199,-1.2555961608886719,-0.22447940707206726,-0.0829373374581337,-0.7378904223442078,0.21417678892612457,0.451554536819458,0.4271679222583771,0.2643333077430725,-0.7091705799102783,0.9854785203933716,-0.2990736663341522,0.35873472690582275,-0.6321980953216553,-0.5668928623199463,-0.26123911142349243,-0.7426730990409851,0.6045039296150208,-0.2621387839317322,0.5844774842262268,0.5800055265426636,1.315647006034851,-1.9588007926940918,-2.0005903244018555,0.17887532711029053,0.024716174229979515,-0.2228126972913742,-1.3350591659545898,-0.5334423780441284,0.4724687337875366,0.40626606345176697,-0.6402933597564697,0.09311573207378387,-0.5299680233001709,-0.42741313576698303,0.004788462072610855,0.15414740145206451,-0.6830251216888428,-1.1274950504302979,0.7994157671928406,-0.4865702986717224,-1.5602976083755493,-0.3123241662979126,-0.8358885049819946,-0.4386758804321289,0.4888828992843628,0.03984455764293671,-0.27242499589920044,-0.07949215918779373,0.4365944564342499,0.09630079567432404,-1.135244607925415,0.7877634167671204,-0.23247836530208588,0.6121242642402649,-0.014614472165703773,-0.20729708671569824,-0.6367421746253967,-0.2879081964492798,-0.7769061923027039,-0.07938440144062042,0.27934789657592773,-1.2361074686050415,-0.14435729384422302,-0.7419082522392273,0.17079374194145203,-0.497382253408432,-0.21189892292022705,0.15549930930137634,1.148622989654541,-1.308978796005249,1.190190076828003,-0.5415847301483154,0.041240669786930084,1.829473853111267,0.06227704882621765,-0.5394352674484253,1.0952469110488892,1.948050856590271,-1.332195520401001,1.0894945859909058,0.21362854540348053,0.4016605615615845,-1.6721279621124268,1.2233072519302368,0.1725005805492401,0.19871655106544495,-0.47539156675338745,0.46003907918930054,-0.3221047818660736,0.6683613657951355,0.6294134855270386,-0.08232247084379196,-0.545735239982605,-0.3648723363876343,-0.010743282735347748,1.4630001783370972,1.3224838972091675,-1.0745408535003662,-0.8460005521774292,0.06988891959190369,0.6509161591529846,0.6918734312057495,-0.8046900033950806,1.2122160196304321,-0.3417860269546509,0.594990074634552,0.5915870070457458,-0.48861920833587646,1.2136703729629517,-0.6468077898025513,0.15241752564907074,-1.3159255981445312,1.704869270324707,-0.12114650011062622,-0.15642881393432617,-0.2319454550743103,-1.3348983526229858,-0.060969896614551544,-0.9834560751914978,0.022421712055802345,-0.04547606408596039,0.00840388610959053,-1.8607206344604492,-0.8568305969238281,0.8594446182250977,1.4045947790145874,0.05404914543032646,1.4729396104812622,-1.0248324871063232,-1.0279901027679443,0.5619041323661804,0.05856751278042793,1.052525281906128,-0.9815114736557007,-0.9097937941551208,-1.0773956775665283,-0.03926919400691986,-0.4130164682865143,2.5059189796447754,1.478484869003296,2.164275646209717,1.3813421726226807,0.5334827303886414,-0.4350908696651459,1.6322191953659058,-0.605808675289154,0.6704261898994446,0.3977670669555664,0.747555136680603,-0.6220107674598694,0.18317802250385284,0.7021928429603577,-0.08480887860059738,1.0465201139450073,0.3994668126106262,1.0849801301956177,0.711668074131012,2.114149570465088,0.5655305981636047,-0.532843291759491,-0.5743764638900757,-0.1695917546749115,-0.40692004561424255,0.6816681027412415,1.3107929229736328,1.4779506921768188,-0.7728235721588135,-0.7157244682312012,0.09669297188520432,0.22674676775932312,-0.3480580747127533,0.8104111552238464,-0.9192687273025513,0.5322995781898499,-0.23198048770427704,0.2249743640422821,-0.6583527326583862,1.1424221992492676,0.09301795810461044,-0.9120085835456848,0.3561856150627136,0.6838986873626709,-1.1783157587051392,1.3961398601531982,-0.608578085899353,0.7314544916152954,-1.5008721351623535,0.35663703083992004,-1.182603359222412,-0.4961627125740051,-0.12934660911560059,0.8945046663284302,-1.1382580995559692,-0.7280959486961365,0.3815772235393524,0.019685672596096992,-0.19180718064308167,0.3442527949810028,0.909483015537262,2.789593458175659,-0.061390817165374756,-0.8392397165298462,0.6544377207756042,-0.8194479942321777,-1.2036545276641846,0.46030959486961365,0.1853082925081253,-0.18197506666183472,0.40997299551963806,-0.6361662149429321,0.5001271963119507,0.3083210587501526,0.4254492223262787,0.6022679805755615,-1.37092924118042,-1.458687424659729,-0.2589910626411438,0.29382872581481934,0.892084538936615,0.5846200585365295,1.435171365737915,0.1115887239575386,-0.14653977751731873,0.6641691327095032,-0.006738200783729553,0.6404933929443359,-0.493909627199173,-0.27612146735191345,-0.9082456827163696,-1.3235784769058228,-0.7625904679298401,0.7800282835960388,-1.1356431245803833,0.6710255146026611,0.1659964770078659,0.6403133273124695,0.39758485555648804,0.2627117931842804,0.45713937282562256,-0.3050934970378876,0.10054465383291245,-0.4397108852863312,-1.4810926914215088,-0.38804247975349426,-1.479811191558838,-1.1153314113616943,-0.9651375412940979,-1.7659248113632202,-0.2260110080242157,0.7155905365943909,-0.7058338522911072,-1.0689598321914673,-0.5556955337524414,0.16089275479316711,-0.6367381811141968,0.3189513385295868,0.4495355188846588,-0.8606271147727966,-0.786121666431427,-0.9579917192459106,-0.3247169256210327,-1.2995458841323853,0.692011296749115,-0.10187794268131256,-1.2852603197097778,-2.2571799755096436,0.2771228551864624,0.16395819187164307,-0.3901781439781189,-0.7205734252929688,0.7963327169418335,-0.02469346486032009,-0.17416992783546448,-0.3031601905822754,0.21017001569271088,0.5631476640701294,-0.5626922249794006,-1.8279610872268677,1.052531361579895,0.3122343420982361,1.1862882375717163,0.1282309740781784,1.441964030265808,-0.4219522774219513,0.04644284397363663,0.2963470220565796,-2.0248758792877197,-0.7436547875404358,-0.01870371773838997,-1.7974498271942139,-0.8722627758979797,2.261118173599243,-0.5989495515823364,1.4105743169784546,-0.22707967460155487,0.7897617220878601,-0.21872517466545105,0.785114586353302,0.20322147011756897,0.9928593635559082,0.10519948601722717,-0.05125843361020088,-0.5517387390136719,-2.0648677349090576,-0.5969763398170471,-0.9085482954978943,-0.7184702157974243,0.8917981386184692,-0.3270343840122223,-1.1957515478134155,0.45612382888793945,0.8074353337287903,1.130810260772705,0.3608499765396118,0.6020873785018921,-0.49718043208122253,1.3279070854187012,-0.9510289430618286,-0.7511516809463501,0.19803102314472198,0.5675293207168579,4.767743110656738,-0.4842257797718048,-0.5117951035499573,1.932620882987976,-1.3307698965072632,-2.046818733215332,0.6209003329277039,0.5778717398643494,0.6763041615486145,0.012617925181984901,-0.27441322803497314,-0.8874306678771973,0.13749286532402039,0.5390249490737915,-0.2784804701805115,-0.6961762309074402,-0.16455893218517303,-0.9106533527374268,-0.36584413051605225,0.4970988631248474,0.93684983253479,0.20377536118030548,-1.0596674680709839,0.06918124854564667,0.7050010561943054,-0.6779934763908386,-0.6422352194786072,-0.04539589583873749,0.8149350881576538,0.770011305809021,-1.520759105682373,1.350795865058899,-0.38281264901161194,0.0189064834266901,-0.5739823579788208,-0.18471519649028778,-1.0904922485351562,0.6435171365737915,-0.12787286937236786,1.0778751373291016,1.0294088125228882,0.20006227493286133,1.6203241348266602,2.036118745803833,1.1116150617599487,-0.31876251101493835,-1.5531468391418457,-0.47972333431243896,1.3688122034072876,1.2325289249420166,0.010223329067230225,0.4443792998790741,-0.4616692364215851,0.6075436472892761,-1.1558613777160645,0.5880221724510193,-0.7180525064468384,1.1283642053604126,-0.38518521189689636,-0.21438300609588623,1.046697735786438,-1.4606757164001465,-0.5025023221969604,0.9774420261383057,-1.139541506767273,1.4398479461669922,-0.39770135283470154,0.6870368719100952,0.42527490854263306,0.6902794241905212,-1.4379113912582397,-0.16758355498313904,-0.5490272045135498,1.4347892999649048,-0.8593006730079651,-0.5241914391517639,0.9670818448066711,1.4111157655715942,0.537168025970459,0.5260945558547974,0.2971764802932739,-0.4456494450569153,0.7057046890258789,-0.14238432049751282,4.555839538574219,-0.045656900852918625,0.5987588763237,-1.5568950176239014,0.8228069543838501,1.0723127126693726,0.3183222711086273,-1.7827708721160889,1.2862690687179565,0.32459789514541626,-1.2715706825256348,-0.5358210206031799,0.26251351833343506,1.4111535549163818,-1.3659518957138062,-0.15297730267047882,0.5973476767539978,-0.49482136964797974,-1.5706349611282349,-1.2128076553344727,-0.3198607563972473,1.0461199283599854,-0.7008183002471924,-0.3180719017982483,0.038546498864889145,0.2166544497013092,-0.07590755075216293,0.6676403284072876,2.404181718826294,-0.8611475229263306,0.4989907145500183,0.5017900466918945,-0.3192853033542633,1.052818775177002,-1.3806674480438232,-0.7124791145324707,-0.7089714407920837,0.10756516456604004,-1.3799797296524048,1.624016523361206,1.4845479726791382,0.8386666774749756,-1.8628202676773071,-0.4327542185783386,-0.5892738699913025,-0.7313019037246704,-0.012278599664568901,0.8173017501831055,0.6661182641983032,0.5962927341461182,2.1630892753601074,1.8744739294052124,1.2683600187301636,-0.13549579679965973,0.5564272403717041,1.2910422086715698,1.5005208253860474,0.7578593492507935,0.22058016061782837,1.0925135612487793,-0.5378549098968506,-0.9564793705940247,0.6263406872749329,0.22352109849452972,0.14817336201667786,-0.6693814992904663,-2.200742483139038,-0.6759665608406067,0.6137352585792542,-0.5054478645324707,0.8034105896949768,0.956393837928772,1.5158085823059082,0.8566485047340393,-1.0404208898544312,0.05548662692308426,-0.9436140060424805,0.27334064245224,-0.354353129863739,0.3951454758644104,-0.06498908996582031,-0.908758819103241,-0.6868618726730347,1.4299954175949097,-0.46153125166893005,-1.0468003749847412,-1.0174580812454224,-0.654694139957428,-0.7453346252441406,-0.5121533274650574,0.5716872215270996,-0.2856469452381134,-0.8510521054267883,-0.06998047232627869,0.5786336660385132,-1.0585908889770508,0.8291426301002502,1.4266542196273804,0.7591008543968201,-1.1272608041763306,0.16199900209903717,0.5682239532470703,-1.1960450410842896,-0.6150159239768982,-0.35042884945869446,-1.5690650939941406,0.866114616394043,0.51744544506073,1.1684595346450806,0.31976118683815,-1.411072015762329,-1.8064180612564087,0.1717497557401657,-0.657943069934845,-1.1592564582824707,0.21146109700202942,-0.04321235418319702,-0.04312660172581673,0.6768459677696228,0.6354844570159912,0.2572164535522461,1.8216254711151123,-2.2898850440979004,-0.563057541847229,0.8755192160606384,0.4112514555454254,-1.2028017044067383,0.10464470088481903,0.8759034276008606,-0.315686970949173,-1.8063992261886597,-0.35888710618019104,0.5818922519683838,-1.0596349239349365,0.4062439799308777,-0.11087039858102798,0.39494237303733826,0.6352461576461792,-0.4339601397514343,-1.4390262365341187,0.14780671894550323,1.2310394048690796,-0.6559836864471436,-0.08034291863441467,0.7081976532936096,0.34539076685905457,-0.2972075641155243,0.13317079842090607,-1.103517770767212,0.2300712615251541,0.32109788060188293,-0.04297729581594467,-0.1650262176990509,0.6140692234039307,0.8802539110183716,0.4907347559928894,-0.5261660814285278,-0.49524131417274475,-3.0969388484954834,-0.17377828061580658,-0.05201953649520874,-0.908370852470398,0.37227609753608704,0.6487528681755066,-0.5459257364273071,-0.7895722389221191,0.8320345282554626,0.9856579899787903,0.39698582887649536,0.5034417510032654,-0.07980254292488098,-0.3305478096008301,-0.14044354856014252,-0.43419361114501953,-0.520600438117981,-0.5842685699462891,0.4060324430465698,-0.9136031270027161,-3.072706460952759,-0.2665124833583832,-0.06427416205406189,0.6073415875434875,0.6671068668365479,0.39680570363998413,0.6374289989471436,1.1093546152114868,-1.65842604637146,-0.9791247248649597,0.7569811940193176,0.4610593020915985,-0.2756325900554657,0.1730424463748932,0.31808146834373474,-0.23385591804981232,0.9868743419647217,-1.5013536214828491,2.420159339904785,-1.3243129253387451,-2.0579183101654053,0.24168761074543,-0.9512509107589722,0.2649165391921997,1.2316845655441284,-1.470403790473938,-0.3329264223575592,-0.13884016871452332,0.7053398489952087,0.9129771590232849,-0.17352697253227234,0.2800973951816559,-1.142981767654419,-1.3486818075180054,-0.25635650753974915,-0.47796839475631714,0.9689003229141235,-0.058341190218925476,0.06881453096866608,-1.4084886312484741,0.44831714034080505,-1.9990897178649902,0.9681551456451416,-0.32404762506484985,-0.07779664546251297,1.1565126180648804,-0.440051406621933,-0.25578567385673523,1.4995442628860474,0.06439869850873947,-1.4677249193191528,-0.9570607542991638,-0.2845403254032135,-0.052738916128873825,-0.35337841510772705,1.3662770986557007,-1.7763500213623047,-1.0077579021453857,0.0996224507689476,0.14740365743637085,0.0025175109039992094,-0.2925969958305359,0.11681114137172699,-0.28209224343299866,0.47067534923553467,0.503029465675354,-0.7983159422874451,-0.31536224484443665,-0.39644989371299744,-0.9654213190078735,-0.4608144164085388,-0.15091586112976074,0.7809091806411743,-1.4309731721878052,-0.5656535029411316,0.4093559682369232,0.33482518792152405,-0.6072985529899597,-2.367549180984497,-0.33935654163360596,0.17529043555259705,-0.14469391107559204,0.4527558386325836,0.49125349521636963,1.343660593032837,1.1402784585952759,0.4798366129398346,1.7807124853134155,-0.06877588480710983,-0.43830540776252747,-0.0014220260782167315,0.47366806864738464,1.6159206628799438,1.0653780698776245,-0.42493969202041626,0.8208799362182617,0.3794722259044647,-0.16820590198040009,1.0522207021713257,0.05700221285223961,0.518803596496582,-1.0934339761734009,-0.39917656779289246,-0.1233624517917633,-1.5875524282455444,1.7108811140060425,0.09524963796138763,-2.808323621749878,0.702431857585907,-2.333940267562866,-2.111499071121216,0.5083230137825012,0.3578394055366516,0.5707999467849731,3.420729160308838,-1.130655288696289,0.08215001970529556,1.378854751586914,-0.37652894854545593,0.6801509857177734,0.2652938961982727,-0.6408856511116028,0.05326364189386368,-0.3463980555534363,0.05324208363890648,-0.7256464958190918,0.27326881885528564,-2.8903675079345703,0.7613634467124939,0.2154725193977356,-1.9080383777618408,0.5351516008377075,-0.3182552456855774,-0.46040451526641846,-0.10016129165887833,0.48795774579048157,-0.5480766892433167,-0.5340845584869385,-0.2933226525783539,-1.0550297498703003,0.29657718539237976,-0.685834527015686,-0.008934426121413708,0.1003580242395401,0.8469592928886414,-0.31859639286994934,-0.004141280427575111,0.05460665747523308,1.4782108068466187,0.2600213289260864,-0.3400231599807739,-0.051706671714782715,0.19683651626110077,-0.9124729633331299,-0.5002798438072205,0.05161094292998314,-0.12124781310558319,0.17661672830581665,0.8887730836868286,0.06317075341939926,2.0410356521606445,-0.018990956246852875,0.3734643757343292,0.3269868791103363,0.11590299755334854,0.7559720873832703,0.16100572049617767,0.32770779728889465,-0.5446586012840271,-0.11714036762714386,0.401497483253479,-0.4490419030189514,0.11333734542131424,1.557239294052124,0.47409579157829285,-0.46622234582901,-0.45898813009262085,-0.22730758786201477,-0.008593624457716942,1.391271948814392,0.5082297921180725,-0.9615709781646729,-1.516533613204956,0.4519500136375427,-0.3202558159828186,-0.659669816493988,0.30960777401924133,-1.3820799589157104,0.809736430644989,-0.3613479435443878,0.4730779230594635,0.9194574356079102,0.6983417272567749,-0.0002508387842681259,-0.35866591334342957,0.2748456299304962,0.3191797137260437,-0.8313120603561401,-1.465506911277771,-1.4135023355484009,1.139046311378479,-0.09906881302595139,-0.37452754378318787,1.2126597166061401,0.3735065460205078,-1.060787320137024,0.46806877851486206,0.004836235661059618,2.415990114212036,1.210978388786316,-0.14767298102378845,0.6336165070533752,0.7569522261619568,-0.22385548055171967,0.3703242540359497,-0.13840562105178833,1.2295993566513062,0.697162926197052,-0.0028283405117690563,0.7776105403900146,-2.619697093963623,-0.5055966377258301,-0.13046859204769135,0.08187764137983322,1.9998522996902466,1.4062199592590332,0.3123285174369812],\"xaxis\":\"x\",\"y\":[-0.0010071845026686788,0.00407751090824604,-0.05683295056223869,-0.017714936286211014,0.006619006395339966,-0.0162520669400692,0.03506774455308914,0.014670251868665218,-0.045821551233530045,0.020762549713253975,-0.06947951018810272,-0.016791047528386116,0.07651782780885696,-0.031244071200489998,-0.025157613679766655,-0.09159769862890244,0.0401800200343132,-0.08609061688184738,0.02412259764969349,0.042290762066841125,-0.05623268708586693,-0.010175828821957111,-0.08672793209552765,-0.0251663476228714,0.03587543964385986,-0.054088618606328964,0.03076636791229248,0.03424828127026558,-0.0016733305528759956,0.07326481491327286,0.02210746519267559,0.022884303703904152,0.04911131411790848,-0.025348803028464317,-0.04095051810145378,-0.1555524468421936,0.01052029523998499,0.01856638863682747,-0.053048938512802124,-0.02736780233681202,0.03071025013923645,-0.06738584488630295,-0.000372717302525416,-0.10218097269535065,0.03736719489097595,0.0724324956536293,-0.04365025833249092,0.05564215034246445,0.038536034524440765,0.023877454921603203,-0.12003694474697113,-0.09977082163095474,-0.019185801967978477,-0.07642348855733871,0.03618936613202095,-0.1997459977865219,-0.01911213807761669,0.10587236285209656,-0.03869689628481865,-0.010452485643327236,0.03230113536119461,-0.07034622132778168,-0.006658053956925869,0.05002263933420181,0.11795978248119354,0.03312043473124504,0.153875932097435,0.11827682703733444,0.026257652789354324,-0.034408606588840485,-0.05410723015666008,-0.0028959803748875856,-0.014144381508231163,-0.0020888512954115868,-0.027270007878541946,0.008121175691485405,0.05597944185137749,0.09260247647762299,-0.029130898416042328,-0.06508713960647583,0.01411070954054594,-0.0944443941116333,-0.07347457110881805,0.01738758757710457,-0.18559306859970093,-0.09161163121461868,0.09677434712648392,0.027319734916090965,-0.08146259188652039,0.033094365149736404,-0.030008327215909958,-0.06492811441421509,-0.06568919122219086,0.02619868516921997,0.03879735246300697,0.06106209754943848,0.051280997693538666,-0.12791453301906586,0.04536447301506996,-0.03636746481060982,-0.13717778027057648,0.0666678249835968,0.054660338908433914,0.14899632334709167,0.05895238742232323,-0.006769999396055937,-0.007778606377542019,-0.08439167588949203,0.03592376038432121,0.07151085883378983,0.1354321837425232,0.011066717095673084,-0.13052211701869965,-0.007544326595962048,-0.13593074679374695,-0.0013828345108777285,0.004290768411010504,-0.07878398150205612,-0.024235231801867485,0.10982506722211838,0.1007460430264473,-0.02139793150126934,-0.08408880233764648,0.025947025045752525,0.04175649210810661,-0.04255595803260803,-0.04372464120388031,0.06734512001276016,-0.12112195789813995,0.03866726532578468,-0.03824358060956001,-0.030580300837755203,0.0791463702917099,0.033659934997558594,0.07574073225259781,0.06045299768447876,0.008260891772806644,-0.059785209596157074,-0.13836947083473206,0.07351284474134445,0.002045696834102273,0.08582550287246704,0.03172864392399788,0.03773440048098564,0.026409463956952095,-0.17222847044467926,-0.13190507888793945,-0.0742064043879509,-0.09353100508451462,-0.051732297986745834,0.060628585517406464,-0.031570203602313995,0.06755100190639496,-0.09273585677146912,-0.062400590628385544,-0.17782120406627655,0.14258138835430145,-0.024564160034060478,0.04962357133626938,0.2115143984556198,0.06308892369270325,-0.18848317861557007,0.000922454462852329,-0.08553340286016464,0.11382628977298737,-0.06264492869377136,0.06650831550359726,0.035609129816293716,0.03874508664011955,-0.05271625518798828,0.022870637476444244,0.07943844795227051,0.03044111095368862,0.023696988821029663,-0.05316934362053871,-0.025903619825839996,-0.0907273218035698,-0.0752597525715828,0.04544490948319435,-0.0909942239522934,0.061930470168590546,-0.04007347673177719,0.04071129858493805,0.09499061107635498,-0.025591272860765457,0.04471899941563606,-0.011854253709316254,0.006287110038101673,0.003213317831978202,0.03263174369931221,-0.07065775990486145,0.05208821967244148,-0.06317635625600815,-0.07920245081186295,0.02878333441913128,-0.09332188218832016,0.021583715453743935,0.10405541211366653,0.0780252069234848,0.09866109490394592,0.0716223269701004,-0.10951804369688034,0.10061545670032501,-0.16080725193023682,0.06770501285791397,0.0015504505718126893,0.0926167368888855,-0.02045719511806965,0.03462796285748482,0.08301486819982529,0.00400696974247694,-0.039891209453344345,-0.039991170167922974,-0.009836566634476185,-0.19032153487205505,-0.06039824336767197,-0.09870674461126328,0.07164169102907181,-0.07153281569480896,0.06045917049050331,-0.11460158973932266,-0.16134312748908997,0.10762019455432892,-0.07067830115556717,0.155602365732193,-0.04756131023168564,0.013776550069451332,-0.010445906780660152,-0.13821835815906525,0.11800717562437057,-0.13389632105827332,0.22000053524971008,-0.008314615115523338,-0.019716214388608932,-0.05271545425057411,-0.01825709268450737,-0.08857733756303787,0.05470726266503334,0.11347725242376328,0.0006215100293047726,-0.020275000482797623,0.10912642627954483,-0.023679690435528755,0.08813057094812393,-0.016601093113422394,-0.09696539491415024,-0.04992082715034485,-0.06436790525913239,0.1370929479598999,0.19688251614570618,0.10269230604171753,0.04350997507572174,-0.07958813011646271,-0.05550900101661682,-0.15057742595672607,0.04131580889225006,-0.08310739696025848,-0.10747496783733368,0.012004452757537365,0.10184507817029953,-0.028356393799185753,-0.19168870151042938,0.016357960179448128,-0.0029685248155146837,0.035659801214933395,0.1661597639322281,-0.08961637318134308,-0.08960428833961487,0.012565185315907001,-0.05997747927904129,-0.035669323056936264,0.02245887741446495,-0.0359659418463707,-0.25242164731025696,0.03131985291838646,-0.019939521327614784,0.052992530167102814,0.07427803426980972,-0.0566677488386631,-0.06430220603942871,0.0811210498213768,-0.06995095312595367,0.08260422945022583,0.0837315022945404,-0.03313768655061722,-0.009616644121706486,-0.04883123189210892,0.08590108156204224,0.020520344376564026,-0.07450421154499054,-0.06672607362270355,-0.09580006450414658,-0.1399170607328415,0.012305161915719509,-0.008554112166166306,-0.08577115088701248,0.004723772872239351,-0.05643685162067413,-0.03023534081876278,-0.1895764023065567,-0.07681077718734741,-0.005443699657917023,-0.08754637837409973,-0.1586393266916275,-0.09969931840896606,-0.1671086847782135,0.033987294882535934,0.005294796545058489,0.07799074798822403,0.10987134277820587,-0.13558073341846466,-0.023277755826711655,0.018332330510020256,-0.10336455702781677,-0.058980975300073624,-0.10137923806905746,-0.05886126682162285,0.13009601831436157,0.05679125711321831,-0.07905133813619614,0.13926932215690613,0.0514158271253109,0.033547114580869675,0.014556161127984524,0.09049858897924423,-0.0019174462649971247,-0.17591619491577148,0.10739818960428238,0.1713028848171234,0.0037424529436975718,0.05003058537840843,-0.023174066096544266,0.015554411336779594,0.0720641016960144,-0.02530061826109886,0.0016856362344697118,0.027171103283762932,0.028595667332410812,0.16939640045166016,-0.122022345662117,-0.0619824193418026,-0.07302774488925934,0.04567204788327217,0.015007163397967815,0.07482939958572388,0.06425410509109497,-0.1608167290687561,0.0390489362180233,0.0569947212934494,0.02081860415637493,0.06162116676568985,-0.0997672900557518,-0.1531449258327484,0.0347847156226635,-0.02136213518679142,0.017312992364168167,0.025170613080263138,-0.006015082821249962,-0.04367133975028992,-0.06095269322395325,0.003258016426116228,-0.06853006035089493,0.026326891034841537,0.11505631357431412,0.016611546277999878,-0.15821996331214905,-0.07543344795703888,-0.09525815397500992,0.25860926508903503,0.0046599977649748325,-0.032592859119176865,-0.09007437527179718,-0.1544916033744812,0.011393687687814236,-0.002035892102867365,0.005253460258245468,0.0016201067483052611,0.030701398849487305,0.08191320300102234,0.010123305954039097,-0.08866707235574722,-0.04272802919149399,0.13926757872104645,-0.15028558671474457,-0.03797248378396034,-0.12691113352775574,-0.07627518475055695,-0.055752187967300415,0.061179596930742264,-0.06192384660243988,-0.013922156766057014,0.012070258148014545,-0.13062357902526855,0.03606874495744705,-0.03601165860891342,0.06392379850149155,0.10937502980232239,-0.01835165172815323,0.004987081978470087,0.0009956262074410915,0.08340010046958923,-0.04742000997066498,-0.04805990681052208,-0.03308406472206116,-0.17901842296123505,0.01538009475916624,-0.023096537217497826,-0.03152689337730408,0.015923181548714638,-0.07445584982633591,0.16542084515094757,0.04185277968645096,0.04417562112212181,-0.0565887913107872,0.047277167439460754,-0.04443427920341492,0.13089320063591003,-0.013144342228770256,-0.04942919313907623,-0.020178694278001785,0.0844750851392746,-0.00037270167376846075,-0.11740463227033615,-0.01829642616212368,-0.012430221773684025,-0.026954397559165955,-0.005080778617411852,-0.008965258486568928,-0.07781217247247696,-0.014575257897377014,0.13096930086612701,-0.0554497130215168,-0.025536827743053436,0.058330293744802475,0.014361958019435406,-0.08697032928466797,-0.16177669167518616,0.017977677285671234,-0.028668299317359924,0.007052450440824032,-0.004744884558022022,0.05760994553565979,-0.05239216238260269,-0.0361943244934082,-0.06616691499948502,0.09124301373958588,0.08854695409536362,-0.2587343454360962,0.08416751772165298,-0.16505292057991028,0.0727338045835495,-0.04941295459866524,-0.025440679863095284,-0.029095768928527832,0.04488934949040413,0.16102735698223114,-0.005709589459002018,0.02003275789320469,-0.012880719266831875,-0.14595675468444824,0.030125971883535385,0.005099400877952576,0.08630115538835526,-0.03111337311565876,0.21266044676303864,0.038251880556344986,0.08567875623703003,0.08349017798900604,-0.17630626261234283,0.11036301404237747,-0.09046903252601624,-0.00010080954962177202,0.0971035584807396,0.08245504647493362,0.07056360691785812,0.08205118775367737,0.11362234503030777,0.11834359169006348,0.031422700732946396,-0.02197978086769581,-0.0023643060121685266,0.06613931804895401,-0.004640650935471058,0.11169783025979996,-0.05116182938218117,0.04659351333975792,0.021983938291668892,0.0007854439318180084,-0.150979146361351,-0.1262204647064209,-0.10526762902736664,0.032874029129743576,0.0032178000546991825,-0.054684389382600784,-0.1020885780453682,-0.05748966336250305,-0.09536600112915039,0.01672070100903511,-0.015412881970405579,0.05374474450945854,0.031521134078502655,-0.004631482530385256,0.029950372874736786,0.1184258833527565,-0.06867871433496475,0.01597062684595585,-0.15546444058418274,-0.0423097163438797,-0.12466831505298615,-0.018980598077178,0.07592421770095825,-0.13478964567184448,0.05683761462569237,-0.11991110444068909,-0.1373053640127182,0.03042699582874775,-0.019643815234303474,0.08258991688489914,0.062791608273983,-0.06555473804473877,-0.13109517097473145,0.058084748685359955,0.029951654374599457,-0.04579506069421768,0.19710783660411835,0.024034205824136734,0.029558012261986732,-0.09406302124261856,-0.014395100064575672,-0.09481219202280045,-0.011684399098157883,0.16200704872608185,0.061597347259521484,-0.006476507987827063,0.0323110856115818,-0.08474664390087128,-0.03108246810734272,-0.06337833404541016,-0.014266086742281914,0.22134147584438324,0.09499954432249069,0.12110321968793869,0.11804357171058655,-0.0305231474339962,0.02896163985133171,0.019576160237193108,-0.12973685562610626,0.04132569208741188,0.20028531551361084,0.18474824726581573,0.007054480258375406,0.005934651009738445,-0.066919706761837,-0.047929514199495316,-0.034255851060152054,-0.023330260068178177,0.0646667554974556,-0.045458611100912094,0.0893784910440445,-0.10344132781028748,0.09128141403198242,-0.08469632267951965,0.02999211847782135,0.01499310601502657,-0.022537657991051674,0.09507322311401367,0.03005485236644745,0.12675841152668,0.07495830208063126,0.0717008113861084,-0.08016476780176163,0.15388372540473938,0.030666889622807503,-0.05653025209903717,0.04770127311348915,0.07155972719192505,-0.06803466379642487,0.011196482926607132,-0.06539522111415863,0.09715798497200012,-0.11239433288574219,-0.06764250993728638,0.02367032878100872,0.021175406873226166,-0.11145967245101929,-0.10290757566690445,-0.06263468414545059,0.08234431594610214,-0.018879106268286705,-0.0451805517077446,-0.11686386168003082,-0.13950727880001068,-0.0273083858191967,-0.05438782274723053,0.025215143337845802,0.14474396407604218,-0.0048326472751796246,-0.044438328593969345,-0.005758972838521004,0.18141748011112213,0.007355568464845419,-0.095687635242939,-0.06952130794525146,-0.08381976187229156,-0.013397169299423695,0.14808204770088196,0.12488158047199249,-0.05583631247282028,0.004364633467048407,0.06741262227296829,-0.0358995757997036,-0.00551070598885417,0.051681287586688995,-0.056095290929079056,-0.16097001731395721,-0.07889080047607422,-0.1063445582985878,0.07917600870132446,0.15950994193553925,0.0961867943406105,0.0013819319428876042,-0.033297181129455566,0.054447609931230545,-0.06976455450057983,-0.05623544752597809,0.020062735304236412,0.019880985841155052,0.014365406706929207,0.22422099113464355,-0.039240095764398575,0.04954036697745323,-0.03526464104652405,0.26086094975471497,0.03170908987522125,0.061571624130010605,0.07831034064292908,0.02503579668700695,0.021140089258551598,-0.05089595168828964,-0.08290444314479828,-0.08121730387210846,-0.06069511920213699,-0.10560227185487747,0.06504952162504196,-0.19931723177433014,-0.08410859853029251,-0.0682346299290657,-0.03524433821439743,-0.01586862839758396,0.03180612623691559,0.07618297636508942,-0.06681806594133377,0.03414977714419365,0.10424347966909409,0.10028189420700073,0.07943599671125412,-0.09111376106739044,-0.000412829132983461,-0.059267882257699966,-0.0302614476531744,-0.013664978556334972,0.08002133667469025,-0.09029407054185867,0.08315593004226685,0.11869464069604874,0.11363241076469421,-0.03635968640446663,-0.015395897440612316,-0.04334937036037445,-0.07183680683374405,-0.22729630768299103,-0.03696679323911667,-0.0830567330121994,0.0016577534843236208,0.05728035420179367,0.07389669865369797,0.0749928280711174,-0.018514622002840042,-0.09425809234380722,0.10001521557569504,-0.20727472007274628,0.03860745206475258,0.08040923625230789,-0.11357305198907852,0.03847527503967285,0.1285475194454193,0.001565560232847929,-0.14226657152175903,-0.01873897574841976,0.007703633978962898,-0.10550833493471146,-0.09333175420761108,-0.21905426681041718,0.12285251170396805,0.11541195213794708,0.02051530033349991,-0.05097080394625664,-0.12201841175556183,-0.12483879178762436,-0.06488015502691269,0.052150655537843704,0.02736046351492405,-0.19824427366256714,-0.015205875039100647,-0.028522450476884842,0.07779534161090851,0.12563468515872955,-0.11796435713768005,0.06721576303243637,0.1608894169330597,0.044930871576070786,-0.0647222101688385,-0.05237272381782532,-0.09239988029003143,-0.07846308499574661,-0.1979818344116211,-0.012814534828066826,0.068827785551548,0.03582315146923065,0.012920922599732876,0.026465551927685738,0.047232888638973236,-0.013291404582560062,-0.21863976120948792,0.05223096162080765,0.05077909678220749,-0.15458020567893982,0.04928604140877724,0.023117467761039734,-0.07004118710756302,-0.04914592206478119,0.13878417015075684,-0.05213569477200508,-0.2950398921966553,0.009425228461623192,-0.0677013248205185,0.09699703752994537,-0.02896874211728573,-0.08795339614152908,0.03718045726418495,0.08737851679325104,-0.11050065606832504,0.00890491995960474,0.020088041201233864,0.044937267899513245,0.0015018266858533025,0.16753822565078735,-0.039728932082653046,-0.07216046005487442,0.05154690518975258,-0.020256245508790016,0.06299842894077301,-0.005548554472625256,-0.1501169204711914,-0.12112102657556534,0.09201683104038239,-0.14205506443977356,0.1457541584968567,0.029933806508779526,0.013027374632656574,0.10529276728630066,0.02577901817858219,0.006301512010395527,0.022801272571086884,0.1844109296798706,0.036867257207632065,-0.1263524740934372,-0.048246052116155624,0.027579884976148605,-0.027546802535653114,0.0020950492471456528,-0.03246097266674042,0.20429359376430511,0.12446180731058121,0.14803840219974518,0.012279157526791096,0.06156463548541069,-0.022904619574546814,0.24349059164524078,0.14722760021686554,0.1122962087392807,0.19163480401039124,-0.08482110500335693,-0.10035047680139542,-0.11455311626195908,-0.061531998217105865,0.2747490704059601,0.07616118341684341,0.02945791929960251,-0.03784623742103577,-0.031059855595231056,0.04119356721639633,-0.10892871767282486,0.17999613285064697,0.06143258884549141,-0.04821360111236572,-0.08021668344736099,0.05651220679283142,-0.08808023482561111,0.009709392674267292,0.023980526253581047,-0.03914305567741394,-0.0010441006161272526,0.02365848608314991,-0.01569993607699871,-0.11832579225301743,-0.05487125739455223,0.21364502608776093,-0.0144039923325181,-0.04997696727514267,-0.03663386031985283,0.11836633086204529,-0.12581327557563782,0.09165390580892563,-0.08336546272039413,0.1317780464887619,-0.07562725991010666,0.15697944164276123,0.05634981766343117,0.020304206758737564,-0.08626509457826614,0.015154936350882053,-0.0886736810207367,0.03418797627091408,0.13962239027023315,0.08725271373987198,-0.018965469673275948,-0.02332872711122036,-0.023040955886244774,0.0478297658264637,-0.019549043849110603,0.07899225503206253,0.01104647945612669,-0.2588892877101898,0.10106414556503296,0.04505367577075958,0.06799446791410446,0.05486267805099487,0.03751029819250107,-0.03678855299949646,-0.061093974858522415,0.005155525170266628,-0.09701511263847351,-0.07925907522439957,-0.1568979024887085,-0.07168949395418167,0.07485214620828629,0.11339867860078812,0.059672582894563675,-0.055040791630744934,-0.009070983156561852,0.1194009855389595,0.02665582112967968,0.09252335131168365,0.14483392238616943,-0.02213452011346817,-0.015038296580314636,0.02210872434079647,0.09027351438999176,-0.023040052503347397,-0.1596796065568924,0.011028909124433994,-0.08387355506420135,-0.12152036279439926,-0.011105447076261044,0.046481579542160034,0.004547490272670984,0.02122090943157673,-0.07712084800004959,0.009191247634589672,-0.14116373658180237,-0.17375235259532928,-0.0035431275609880686,-0.04772558435797691,-0.07154807448387146,0.024922341108322144,0.12711593508720398,-0.11421936750411987,-0.10498233884572983,0.11104288697242737,0.03667841851711273,-0.04539426043629646,-0.22216719388961792,0.050747331231832504,0.1159108579158783,-0.018173564225435257,0.1932651698589325,-0.0029838636983186007,-0.017410563305020332,0.010983173735439777,0.1267770379781723,-0.07234689593315125,0.06764763593673706,0.013870774768292904,0.019828515127301216,-0.011798939667642117,-0.06370365619659424,0.010560828261077404,0.09222566336393356,0.11981891840696335,0.058113742619752884,0.08151236176490784,0.07346615940332413,-0.13838951289653778,-0.05819815769791603,0.09149184077978134,0.004989293869584799,-0.1316353678703308,-0.017406994476914406,0.01768878847360611,0.0040442184545099735,-0.04992493614554405,0.010613332502543926,0.05004006624221802,0.08717655390501022,-0.027840521186590195,-0.050614845007658005,0.019940998405218124,-0.047087814658880234,-0.029916008934378624,0.031126348301768303,-0.05848012492060661,-0.06544849276542664,-0.16940400004386902,0.01179753988981247,0.11649879813194275,0.01568427123129368,-0.1033589318394661,-0.055020771920681,-0.04670169577002525,-0.0950225368142128,-0.14122140407562256,0.20569567382335663,-0.01119203306734562,0.03783739358186722,-0.00977088138461113,-0.10435432940721512,0.10534156858921051,0.04112343117594719,0.18863584101200104,-0.13157564401626587,-0.038299836218357086,-0.02916952781379223,-0.015914669260382652,-0.025198163464665413,-0.10344091057777405,0.05606509745121002,0.12199106812477112,-0.1322813183069229,-0.1804337054491043,0.1458517163991928,-0.018839532509446144,0.05182824283838272,-0.085391104221344,-0.07470526546239853,-0.05771796777844429,-0.05518287792801857,-0.0049852970987558365,-0.02106599509716034,0.00467693479731679,-0.14148075878620148,0.11240516602993011,0.12074055522680283,-0.004184084478765726,0.11199664324522018,-0.13894017040729523,0.019090622663497925,-0.11836393177509308,-0.14112889766693115,0.027571672573685646,0.1090690940618515,0.04026920720934868,0.07088052481412888,0.09500063210725784,0.24106667935848236,0.10760387033224106,0.12837786972522736,0.003087555291131139,0.09249822050333023,-0.12476328760385513,0.032221537083387375,0.2315351814031601,-0.09348221868276596,-0.0020272808615118265,0.02566308155655861,0.2091245949268341,-0.0398809053003788,0.007524955086410046,-0.017244746908545494,0.023358961567282677,0.0629105418920517,0.015792913734912872,-0.03471677377820015,0.02302003838121891,0.009909781627357006,-0.21215270459651947,0.03798907250165939,0.012559568509459496,0.05820189788937569,-0.047884371131658554,0.05458587780594826,-0.1555633395910263,-0.1277705878019333,0.02316136658191681,-0.051722317934036255,-0.10264819860458374,-0.0026106834411621094,-0.03184177353978157,-0.04982129484415054,0.11467237025499344,0.11595838516950607,-0.02506783977150917,-0.11739763617515564,-0.0466025248169899,-0.13164466619491577,0.22193720936775208,0.15375947952270508,-0.021142153069376945,-0.006996155250817537,-0.04943278059363365,-0.036885399371385574,-0.0959535539150238,-0.1062389463186264,-0.08319522440433502,0.11695163697004318,-0.019750282168388367,0.08889946341514587,0.017521090805530548,-0.08620740473270416,-0.031122595071792603,-0.10818509757518768,0.03621995076537132,0.1712232083082199,0.15991751849651337,0.131045863032341,0.06827805191278458,-0.11835959553718567,-0.2664877474308014,-0.08884338289499283,-0.0728166475892067,-0.019677521660923958,-0.004048706963658333,-0.15013264119625092,0.14900007843971252,-0.022814976051449776,0.08316808938980103,-0.0011066650040447712,0.13386066257953644,0.14906513690948486,-0.013006685301661491,-0.008092880249023438,-0.09810846298933029,-0.026407703757286072,0.08907230198383331,0.0705559104681015,0.08008777350187302,-0.04696483165025711,0.1147383600473404,0.06727414578199387,0.06248932704329491,0.01208564918488264,-0.048867203295230865,-0.005213733296841383,0.04308779910206795,-0.016527988016605377,-0.023868843913078308,-0.18380646407604218,0.10698964446783066,0.13511046767234802,-0.15732087194919586,-0.16502726078033447,0.13558879494667053,-0.07706080377101898,-0.035731423646211624,0.08309675008058548,-0.06451603770256042,0.025329140946269035,-0.029447274282574654,-0.10618945956230164,-0.10415550321340561,0.054005540907382965,0.0031149929855018854,0.18561318516731262,0.14548960328102112,0.01860562525689602,-0.022449327632784843,-0.11199745535850525,-0.0034863597247749567,-0.08643870055675507,-0.12032939493656158,0.2093694806098938,-0.05180040001869202,0.1787334531545639,-0.200495645403862,0.1204121932387352,0.034923672676086426,-0.07889920473098755,0.16498695313930511,0.011280150152742863,0.10682105273008347,0.20171046257019043,0.07053939253091812,0.051191024482250214,0.05225927755236626,-0.035640668123960495,0.03032400831580162,-0.01823221892118454,0.009939773008227348,0.007771795615553856,-0.12078515440225601,-0.03892575576901436,0.05899576097726822,0.21273574233055115,0.1837734431028366,-0.16626350581645966,-0.01440394390374422,0.03205817937850952,0.13497747480869293,-0.008135559968650341,-0.015099539421498775,-0.059535883367061615,-0.06625541299581528,-0.05535391718149185,-0.11342160403728485,-0.027659539133310318,0.15690743923187256,-0.09155672043561935,0.11922599375247955,0.001112133963033557,0.05552830919623375,0.07703614979982376,-0.07028217613697052,0.15243057906627655,-0.10828924924135208,-0.0324588268995285,-0.13515782356262207,-0.11088339984416962,-0.07698602974414825,-0.1365099996328354,-0.11586003005504608,0.03436053916811943,-0.11933188885450363,-0.0827033668756485,-0.13448870182037354,-0.10342992842197418,-0.0005356994224712253,-0.11699497699737549,0.06422584503889084,0.06141927093267441,0.0026789805851876736,0.030826205387711525,-0.03299606963992119,0.0722833126783371,0.07721061259508133,0.0443497858941555,-0.08190043270587921,-0.03436555340886116,0.10738690942525864,-0.10259058326482773,0.0034541827626526356,0.18336991965770721,0.142258420586586,-0.0121425436809659,0.007023129146546125,0.08934378623962402,0.06355394423007965,0.027478251606225967,-0.1455996036529541,-0.025368470698595047,0.0765521377325058,-0.11677591502666473,-0.06969884783029556,-0.2246677726507187,0.0670374184846878,-0.012075650505721569,-0.06507911533117294,-0.0600358247756958,-0.04643557220697403,0.049179382622241974,-0.05922549590468407,0.007742538116872311,0.10351712256669998,0.1950266808271408,-0.08801054954528809,0.042387671768665314,-0.15741463005542755,0.0839628353714943,0.12667639553546906,-0.07190728187561035,0.09829133749008179,0.17797636985778809,-0.08002135902643204,-0.04041379690170288,-0.037009574472904205,0.09371203929185867,-0.03894694894552231,-0.04502340406179428,0.09829860180616379,-0.18062172830104828,0.004452388733625412,-0.08595670014619827,0.03660208359360695,-0.043705977499485016,-0.06051624193787575,-0.10846155881881714,-0.08922654390335083,-0.019204432144761086,-0.13539321720600128,0.09219051152467728,0.0007020265911705792,-0.06666575372219086,0.09644164144992828,0.09851600974798203,-0.11581714451313019,0.03483256325125694,0.14449484646320343,-0.08250009268522263,-0.0884469524025917,0.03373566269874573,0.039630476385354996,-0.11602514982223511,0.14602993428707123,0.15026235580444336,0.05593138933181763,-0.11804899573326111,-0.07837504148483276,-0.07146859914064407,0.006998113356530666,0.045706912875175476,0.18431399762630463,0.1257685273885727,0.08270026743412018,-0.02427252009510994,-0.011580939404666424,0.19038277864456177,0.03904992714524269,-0.11141905188560486,-0.09257618337869644,0.07980810850858688,0.09619089961051941,-0.1667049378156662,0.04335079342126846,-0.09697607159614563,0.04325716942548752,-0.03754565492272377,-0.0701834037899971,-0.05061129108071327,-0.00191027345135808,-0.04466370865702629,0.09186818450689316,-0.0330047570168972,0.04427584260702133,0.102206289768219,0.13960115611553192,0.1816408634185791,0.1355224996805191,-0.14941807091236115,-0.11324678361415863,-0.12921760976314545,-0.1617390364408493,-0.007619281765073538,-0.05944008380174637,0.0590168721973896,-0.03458158299326897,0.00818762555718422,-0.038372162729501724,0.021224690601229668,-0.05089341849088669,0.13549742102622986,0.08500808477401733,-0.03936924412846565,-0.18429456651210785,0.012111364863812923,0.06848075240850449,0.0923558697104454,0.023964695632457733,0.051190320402383804,0.14561326801776886,0.0425630658864975,0.006973056588321924,-0.01266060583293438,-0.054200612008571625,-0.048432379961013794,0.12101592123508453,-0.014800431206822395,-0.06745032221078873,0.04216424375772476,-0.10418127477169037,-0.06605692952871323,0.13888214528560638,-0.04878821223974228,0.007470675278455019,-0.02032838761806488,-0.01731942780315876,-0.12286029756069183,0.12245997786521912,-0.0875111073255539,-0.13051146268844604,0.053454864770174026,-0.06419044733047485,-0.04011958837509155,0.002514190971851349,0.13509534299373627,-0.02932862564921379,0.07302700728178024,0.07018384337425232,-0.0341196209192276,-0.17114831507205963,-0.07299874722957611,-0.0704069659113884,0.0685805007815361,0.08112295717000961,-0.08406024426221848,-0.08849795907735825,-0.12253042310476303,0.09269800782203674,-0.12962016463279724,0.11387971043586731,0.03051912412047386,0.1086142361164093,-0.18789765238761902,0.0013065882958471775,-0.13272199034690857,-0.07971654087305069,0.016018543392419815,0.16089841723442078,0.05416257306933403,0.2118993103504181,-0.0510072223842144,-0.09763088822364807,-0.019070187583565712,0.14655277132987976,0.12210693955421448,0.03523438423871994,0.0059055485762655735,0.06405193358659744,-0.14264419674873352,-0.04375699535012245,-0.018786754459142685,0.005695868283510208,-0.059861499816179276,-0.06507278978824615,0.10466475784778595,-0.005949555430561304,0.10994269698858261,0.07968460768461227,0.13092325627803802,-0.11176988482475281,-0.050399795174598694,0.04605432227253914,0.1422007828950882,-0.03797377645969391,0.019900448620319366,0.20477163791656494,0.10361283272504807,0.031070228666067123,-0.09326384961605072,0.11919465661048889,-0.05984757840633392,-0.13547302782535553,0.039064645767211914,0.062313493341207504,0.07156387716531754,0.017552580684423447,-0.07499195635318756,-0.11411233246326447,-0.041739571839571,-0.021859658882021904,-0.059216152876615524,0.007340388838201761,-0.0746394470334053,0.0026343774516135454,0.008807183243334293,0.11966688930988312,-0.1630164384841919,0.04991002008318901,-0.03530651330947876,0.00022158617503009737,0.0937909483909607,0.05551563575863838,-0.04691878333687782,-0.07475701719522476,-0.0038042289670556784,0.19653886556625366,-0.04193207994103432,-0.021031154319643974,0.028020357713103294,-0.08042767643928528,0.07578358054161072,-0.10020943731069565,0.0017736885929480195,-0.13406506180763245,0.1785784512758255,-0.08268953859806061,-0.04805219918489456,0.0952938050031662,-0.027033420279622078,0.1388215571641922,0.02409490756690502,-0.05013880878686905,0.02325647696852684,-0.07376036047935486,-0.07100863009691238,-0.038437750190496445,-0.0765877366065979,-0.08645979315042496,0.002511021913960576,-0.12900309264659882,-0.006219509989023209,0.036751750856637955,0.0013377442955970764,0.021712368354201317,0.12025841325521469,0.10780574381351471,0.05269596725702286,0.0023755517322570086,-0.11437318474054337,-0.05917028337717056,0.039267897605895996,0.1796778291463852,0.07532347738742828,0.05314254015684128,0.14444351196289062,-0.06275634467601776,0.03594295307993889,-0.016927044838666916,0.0064951335079967976,-0.22592322528362274,0.086835116147995,-0.17376722395420074,-0.013117880560457706,-0.003252847585827112,-0.14550085365772247,0.010960489511489868,0.1965567171573639,-0.0746101588010788,0.07707992196083069,0.13872899115085602,0.10522131621837616,0.10863269120454788,0.15836091339588165,-0.20958270132541656,0.04070470482110977,0.0837760791182518,0.07046601921319962,0.10843546688556671,0.14705251157283783,0.03780252858996391,-0.022263385355472565,-0.03130050003528595,0.01613892987370491,0.13925939798355103,0.01839432865381241,-0.06193401291966438,-0.10436620563268661,-0.05250845476984978,-0.00789592508226633,-0.047492071986198425,0.046825096011161804,0.03988823667168617,-0.14294104278087616,-0.09945647418498993,-0.10713793337345123,-0.1227574497461319,-0.09573400020599365,-0.12799039483070374,-0.08691462129354477,0.048568982630968094,-0.020363500341773033,0.02731144055724144,-0.0051017701625823975,-0.10592512041330338,0.16414058208465576,0.007880707271397114,0.09088169783353806,0.09816659986972809,-0.02806551568210125,-0.047640182077884674,-0.02153073623776436,0.025189634412527084,-0.2179870456457138,0.009889756329357624,-0.0325908325612545,0.01917949877679348,0.023970073089003563,-0.0329449437558651,0.11547896265983582,0.25912949442863464,-0.0016721005085855722,0.00839906558394432,0.12500141561031342,-0.019938670098781586,-0.034534063190221786,-0.005045045632869005,0.08602486550807953,-0.07251811027526855,0.028140932321548462,0.09062932431697845,-0.22874042391777039,0.055422164499759674,0.026280149817466736,0.15894253551959991,0.21471349895000458,-0.04828738048672676,-0.07084318995475769,-0.09521791338920593,-0.2047046571969986,0.05503130704164505,-0.02258850820362568,-0.04068606719374657,0.10945278406143188,0.042740531265735626,-0.015432712621986866,0.08066316694021225,0.03955928608775139,-0.003300276817753911,0.14637179672718048,0.19121462106704712,0.1564503312110901,-0.04565159231424332,0.11124280095100403,-0.16866473853588104,-0.03392007574439049,-0.04917418211698532,-0.04826786741614342,0.04762699455022812,0.013856342062354088,0.04340837895870209,-0.11964097619056702,-0.2786867320537567,-0.04354145750403404,0.046862486749887466,-0.038463253527879715,-0.024877404794096947,-0.052449461072683334,0.04162479564547539,-0.12152789533138275,-0.0884474590420723,-0.04296222701668739,-0.10191673785448074,-0.029383258894085884,0.05730052292346954,0.16432973742485046,-0.09152323752641678,-0.013928376138210297,0.2814551889896393,0.04290636628866196,-0.009432056918740273,0.10814520716667175,0.007634323555976152,0.06975465267896652,-0.039284784346818924,-0.031020941212773323,0.02149956300854683,-0.04310378059744835,0.11368031054735184,-0.056606974452733994,0.02024809643626213,-0.029128409922122955,-0.039688896387815475,0.06880613416433334,0.05080927908420563,0.1312756985425949,-0.06206659972667694,-9.841887367656454e-05,-0.09681953489780426,0.11611775308847427,0.05488600954413414,-0.02577977627515793,-0.11505044251680374,-0.009021653793752193,0.09781714528799057,-0.027166815474629402,-0.1162726879119873,0.1227506473660469,0.013399464078247547,-0.008100911974906921,0.016459399834275246,-0.003396304091438651,0.020116036757826805,0.03536047413945198,-0.09694315493106842,0.010446658357977867,-0.06505852937698364,0.09969533979892731,-0.09239757061004639,0.09732243418693542,0.0093079200014472,-0.00802353024482727,0.2056327909231186,0.11880581080913544,-0.058731697499752045,-0.0720658227801323,0.051162924617528915,-0.01261389721184969,0.036918267607688904,-0.045325733721256256,0.0010190876200795174,0.05713604763150215,-0.0029122219420969486,0.06178237870335579,-0.1026759147644043,0.05788026750087738,0.0028371326625347137,0.21093609929084778,0.05269352346658707,-0.14802424609661102,-0.08245575428009033,0.043984487652778625,-0.07832406461238861,-0.10099149495363235,0.04561120271682739,0.08876829594373703,-0.05006423965096474,0.08855897188186646,-0.0131832929328084,0.05737370252609253,0.060019321739673615,-0.026694146916270256,0.000340059312293306,-0.18118539452552795,-0.18644653260707855,0.03009164333343506,0.03089205175638199,-0.05636337399482727,0.14229024946689606,0.061684031039476395,0.04077642038464546,0.06254997849464417,0.22693128883838654,-0.08728022128343582,0.12197776138782501,-0.14938226342201233,0.0016615160275250673,-0.022152820602059364,-0.06325189024209976,-0.00362111977301538,-0.05049574375152588,-0.03434547781944275,0.10360214114189148,-0.02217434160411358,0.07829846441745758,-0.18975217640399933,-0.12929807603359222,-0.07786703109741211,0.013664141297340393,0.004094734787940979,0.08602654933929443,0.00984157808125019,-0.06116345152258873,-0.024973200634121895,0.08205211907625198,0.17944523692131042,0.007182243280112743,-0.04470454901456833,-0.11328180879354477,-0.03674212470650673,-0.06937661021947861,-0.1464400589466095,0.06928897649049759,-0.04101201146841049,0.07434715330600739,0.33441516757011414,0.05789951980113983,0.06524631381034851,-0.08494707196950912,0.03317636623978615,0.07664257287979126,0.01772926189005375,0.21691414713859558,0.055541735142469406,0.1355133056640625,-0.12052324414253235,-0.07189474254846573,-0.09150531888008118,-0.07978112250566483,-0.031123122200369835,0.001001730328425765,-0.1546030342578888,-0.11778592318296432,-0.003937688656151295,0.10851974040269852,-0.08546575158834457,-0.012553161941468716,0.10369405895471573,-0.16710755228996277,0.06016034260392189,-0.0569092258810997,0.11639966815710068,0.04566901922225952,0.12378022074699402,0.10632205754518509,-0.02800551801919937,-0.11931844800710678,0.11917807161808014,-0.09390074014663696,-0.0237208753824234,-0.0477510541677475,-0.024231309071183205,-0.035139165818691254,0.13555718958377838,0.08931979537010193,-0.09142567217350006,0.26902061700820923,0.13620881736278534,0.1009720042347908,-0.0038365372456610203,0.07951528578996658,-0.1872984766960144,0.06700479984283447,-0.013156548142433167,-0.09727084636688232,-0.034265823662281036,-0.040834493935108185,-0.05880037695169449,0.008013789542019367,0.005337067414075136,0.09713967144489288,-0.008487883023917675,-0.044946782290935516,0.09262947738170624,0.006540971342474222,-0.0391576774418354,-0.14795713126659393,0.08165077865123749,0.008993337862193584,0.012448785826563835,-0.06921246647834778,0.18843570351600647,0.010819447226822376,-0.06966401636600494,0.07371705025434494,0.0510728619992733,0.09633450210094452,-0.13990135490894318,-0.029080959036946297,-0.09397376328706741,0.07725569605827332,0.09989650547504425,-0.030183205381035805,-0.07834376394748688,0.07240042835474014,0.15166451036930084,0.008387885987758636,-0.05924086272716522,-0.027706965804100037,-0.03369838371872902,-0.025487003847956657,-0.11238136887550354,-0.07939109951257706,-0.07332191616296768,0.0013952750014141202,0.10408125072717667,0.05156024545431137,-0.07618129253387451,0.12491713464260101,0.01118389330804348,0.02913534641265869,0.0321802943944931,0.029628919437527657,-0.032842110842466354,-0.05712134391069412,-0.127023383975029,-0.07668004184961319,0.1599206179380417,-0.09171069413423538,-0.10610192269086838,0.009512188844382763,0.04243234544992447,0.02028750628232956,-0.19389382004737854,-0.10359036922454834,0.09458296746015549,0.024613237008452415,0.11967188864946365,0.01287271361798048,-0.05262058973312378,0.06607148051261902,-0.085227832198143,0.040819305926561356,0.021543607115745544,-0.023118164390325546,0.053582366555929184,0.13577900826931,-0.030680611729621887,0.11171460896730423,-0.011698541231453419,0.1625070571899414,-0.10257008671760559,-0.0050769648514688015,0.01769520528614521,-0.0359569787979126,-0.06148064509034157,-0.08573005348443985,0.04495267570018768,-0.05394719913601875,0.05386557802557945,-0.024774519726634026,0.026891639456152916,0.0726996660232544,0.0930773913860321,-0.10483551770448685,0.046281762421131134,-0.12078648060560226,0.032803725451231,0.07012545317411423,-0.0019345676992088556,-0.14672456681728363,0.032294731587171555,-0.010289374738931656,0.050375234335660934,0.19996008276939392,0.03808208182454109,0.07054992020130157,0.11127659678459167,-0.004448908381164074,-0.038315340876579285,0.19494429230690002,-0.1393984705209732,0.035399675369262695,0.014027722179889679,-0.08215281367301941,0.08454868942499161,0.012028120458126068,-0.19520895183086395,-0.07935787737369537,0.10456404089927673,-0.02486012689769268,-0.0646682158112526,-0.011547015979886055,0.03172566369175911,0.04738893359899521,0.02666952647268772,0.11316411197185516,0.08842948824167252,-0.1719008982181549,0.019390035420656204,0.05131890997290611,-0.07081016898155212,0.036344368010759354,0.05890119820833206,-0.18688181042671204,0.06984401494264603,0.009912075474858284,-0.026385871693491936,0.06770605593919754,-0.026677381247282028,0.008126865141093731,-0.1552077978849411,0.3046737611293793,0.10177935659885406,0.10356704145669937,0.09019376337528229,0.05455521121621132,0.099649578332901,-0.08747538924217224,-0.1257404088973999,0.04725711792707443,-0.01944723352789879,0.0760994628071785,-0.043515726923942566,-0.030193472281098366,0.01621812954545021,0.15253859758377075,0.035680390894412994,-0.02194257266819477,-0.13683004677295685,0.05911022424697876,-0.13808754086494446,0.06818849593400955,-0.053308386355638504,-0.049208734184503555,-0.1891617625951767,0.019428100436925888,0.005925169680267572,-0.055034901946783066,0.0906761959195137,0.0034699668176472187,-0.09802889823913574,-0.022044409066438675,0.11699486523866653,0.10124167054891586,0.015153564512729645,-0.17810878157615662,0.07580066472291946,-0.008501140400767326,0.0022676587104797363,-0.0268740002065897,-0.09796363860368729,-0.06331437081098557,-0.24814900755882263,-0.1238047406077385,-0.23010994493961334,0.055178407579660416,0.05802641063928604,-0.016807977110147476,0.0716681182384491,-0.055042363703250885,-0.05922163650393486,0.10671970248222351,0.02558995969593525,-0.009894520044326782,0.10543985664844513,-0.007203978020697832,0.025822261348366737,-0.05480891466140747,0.03720356523990631,-0.14950986206531525,-0.09540040791034698,0.015778372064232826,-0.06881801784038544,0.0262893233448267,0.006723304279148579,0.0906999260187149,0.006476436275988817,0.1955420970916748,-0.14878176152706146,-0.0068170055747032166,0.05848103016614914,-0.019388273358345032,-0.1589525192975998,0.09020592272281647,0.03803645819425583,-0.006258753594011068,0.08402559161186218,0.004110843408852816,0.058374349027872086,0.034411974251270294,0.08558105677366257,0.04786742106080055,-0.03150645270943642,0.10203661024570465,-0.10428321361541748,-0.05084879323840141,-0.07046083360910416,-0.04106820002198219,0.07347656786441803,0.15290889143943787,-0.1501060426235199,-0.08048906177282333,0.06388171762228012,-0.08673901110887527,-0.029061442241072655,-0.03226780146360397,0.025490472093224525,0.03736594691872597,-0.11533132940530777,-0.09781626611948013,-0.17690804600715637,-0.09939336776733398,-0.031224645674228668,0.11182618141174316,0.09441026300191879,0.0408908985555172,0.0967508852481842,-0.037807613611221313,0.10995021462440491,-0.2948886454105377,0.03473170846700668,0.1315750777721405,-0.06376759707927704,0.03064325824379921,-0.04600842297077179,0.06959167122840881,-0.05198608338832855,0.05884325131773949,-0.09764417260885239,-0.031247027218341827,-0.006675169803202152,0.010713344439864159,0.009116558358073235,0.035283491015434265,-0.042411841452121735,0.013943749479949474,-0.036411356180906296,0.09716442972421646,-0.14771246910095215,0.13697466254234314,0.17677703499794006,0.08472640812397003,0.002503123600035906,0.02185250073671341,0.1385469287633896,0.023983372375369072,-0.1337352693080902,0.04076964780688286,0.11481741070747375,-0.05729854479432106,-0.005977939814329147,-0.027800312265753746,0.03070768155157566,-0.0028586690314114094,0.05185583606362343,-0.10379188507795334,-0.00036718312185257673,0.07660511136054993,0.045581307262182236,-0.16429322957992554,0.2972002625465393,-0.15849541127681732],\"yaxis\":\"y\",\"type\":\"scattergl\"}],                        {\"template\":{\"data\":{\"bar\":[{\"error_x\":{\"color\":\"#2a3f5f\"},\"error_y\":{\"color\":\"#2a3f5f\"},\"marker\":{\"line\":{\"color\":\"#E5ECF6\",\"width\":0.5},\"pattern\":{\"fillmode\":\"overlay\",\"size\":10,\"solidity\":0.2}},\"type\":\"bar\"}],\"barpolar\":[{\"marker\":{\"line\":{\"color\":\"#E5ECF6\",\"width\":0.5},\"pattern\":{\"fillmode\":\"overlay\",\"size\":10,\"solidity\":0.2}},\"type\":\"barpolar\"}],\"carpet\":[{\"aaxis\":{\"endlinecolor\":\"#2a3f5f\",\"gridcolor\":\"white\",\"linecolor\":\"white\",\"minorgridcolor\":\"white\",\"startlinecolor\":\"#2a3f5f\"},\"baxis\":{\"endlinecolor\":\"#2a3f5f\",\"gridcolor\":\"white\",\"linecolor\":\"white\",\"minorgridcolor\":\"white\",\"startlinecolor\":\"#2a3f5f\"},\"type\":\"carpet\"}],\"choropleth\":[{\"colorbar\":{\"outlinewidth\":0,\"ticks\":\"\"},\"type\":\"choropleth\"}],\"contour\":[{\"colorbar\":{\"outlinewidth\":0,\"ticks\":\"\"},\"colorscale\":[[0.0,\"#0d0887\"],[0.1111111111111111,\"#46039f\"],[0.2222222222222222,\"#7201a8\"],[0.3333333333333333,\"#9c179e\"],[0.4444444444444444,\"#bd3786\"],[0.5555555555555556,\"#d8576b\"],[0.6666666666666666,\"#ed7953\"],[0.7777777777777778,\"#fb9f3a\"],[0.8888888888888888,\"#fdca26\"],[1.0,\"#f0f921\"]],\"type\":\"contour\"}],\"contourcarpet\":[{\"colorbar\":{\"outlinewidth\":0,\"ticks\":\"\"},\"type\":\"contourcarpet\"}],\"heatmap\":[{\"colorbar\":{\"outlinewidth\":0,\"ticks\":\"\"},\"colorscale\":[[0.0,\"#0d0887\"],[0.1111111111111111,\"#46039f\"],[0.2222222222222222,\"#7201a8\"],[0.3333333333333333,\"#9c179e\"],[0.4444444444444444,\"#bd3786\"],[0.5555555555555556,\"#d8576b\"],[0.6666666666666666,\"#ed7953\"],[0.7777777777777778,\"#fb9f3a\"],[0.8888888888888888,\"#fdca26\"],[1.0,\"#f0f921\"]],\"type\":\"heatmap\"}],\"heatmapgl\":[{\"colorbar\":{\"outlinewidth\":0,\"ticks\":\"\"},\"colorscale\":[[0.0,\"#0d0887\"],[0.1111111111111111,\"#46039f\"],[0.2222222222222222,\"#7201a8\"],[0.3333333333333333,\"#9c179e\"],[0.4444444444444444,\"#bd3786\"],[0.5555555555555556,\"#d8576b\"],[0.6666666666666666,\"#ed7953\"],[0.7777777777777778,\"#fb9f3a\"],[0.8888888888888888,\"#fdca26\"],[1.0,\"#f0f921\"]],\"type\":\"heatmapgl\"}],\"histogram\":[{\"marker\":{\"pattern\":{\"fillmode\":\"overlay\",\"size\":10,\"solidity\":0.2}},\"type\":\"histogram\"}],\"histogram2d\":[{\"colorbar\":{\"outlinewidth\":0,\"ticks\":\"\"},\"colorscale\":[[0.0,\"#0d0887\"],[0.1111111111111111,\"#46039f\"],[0.2222222222222222,\"#7201a8\"],[0.3333333333333333,\"#9c179e\"],[0.4444444444444444,\"#bd3786\"],[0.5555555555555556,\"#d8576b\"],[0.6666666666666666,\"#ed7953\"],[0.7777777777777778,\"#fb9f3a\"],[0.8888888888888888,\"#fdca26\"],[1.0,\"#f0f921\"]],\"type\":\"histogram2d\"}],\"histogram2dcontour\":[{\"colorbar\":{\"outlinewidth\":0,\"ticks\":\"\"},\"colorscale\":[[0.0,\"#0d0887\"],[0.1111111111111111,\"#46039f\"],[0.2222222222222222,\"#7201a8\"],[0.3333333333333333,\"#9c179e\"],[0.4444444444444444,\"#bd3786\"],[0.5555555555555556,\"#d8576b\"],[0.6666666666666666,\"#ed7953\"],[0.7777777777777778,\"#fb9f3a\"],[0.8888888888888888,\"#fdca26\"],[1.0,\"#f0f921\"]],\"type\":\"histogram2dcontour\"}],\"mesh3d\":[{\"colorbar\":{\"outlinewidth\":0,\"ticks\":\"\"},\"type\":\"mesh3d\"}],\"parcoords\":[{\"line\":{\"colorbar\":{\"outlinewidth\":0,\"ticks\":\"\"}},\"type\":\"parcoords\"}],\"pie\":[{\"automargin\":true,\"type\":\"pie\"}],\"scatter\":[{\"marker\":{\"colorbar\":{\"outlinewidth\":0,\"ticks\":\"\"}},\"type\":\"scatter\"}],\"scatter3d\":[{\"line\":{\"colorbar\":{\"outlinewidth\":0,\"ticks\":\"\"}},\"marker\":{\"colorbar\":{\"outlinewidth\":0,\"ticks\":\"\"}},\"type\":\"scatter3d\"}],\"scattercarpet\":[{\"marker\":{\"colorbar\":{\"outlinewidth\":0,\"ticks\":\"\"}},\"type\":\"scattercarpet\"}],\"scattergeo\":[{\"marker\":{\"colorbar\":{\"outlinewidth\":0,\"ticks\":\"\"}},\"type\":\"scattergeo\"}],\"scattergl\":[{\"marker\":{\"colorbar\":{\"outlinewidth\":0,\"ticks\":\"\"}},\"type\":\"scattergl\"}],\"scattermapbox\":[{\"marker\":{\"colorbar\":{\"outlinewidth\":0,\"ticks\":\"\"}},\"type\":\"scattermapbox\"}],\"scatterpolar\":[{\"marker\":{\"colorbar\":{\"outlinewidth\":0,\"ticks\":\"\"}},\"type\":\"scatterpolar\"}],\"scatterpolargl\":[{\"marker\":{\"colorbar\":{\"outlinewidth\":0,\"ticks\":\"\"}},\"type\":\"scatterpolargl\"}],\"scatterternary\":[{\"marker\":{\"colorbar\":{\"outlinewidth\":0,\"ticks\":\"\"}},\"type\":\"scatterternary\"}],\"surface\":[{\"colorbar\":{\"outlinewidth\":0,\"ticks\":\"\"},\"colorscale\":[[0.0,\"#0d0887\"],[0.1111111111111111,\"#46039f\"],[0.2222222222222222,\"#7201a8\"],[0.3333333333333333,\"#9c179e\"],[0.4444444444444444,\"#bd3786\"],[0.5555555555555556,\"#d8576b\"],[0.6666666666666666,\"#ed7953\"],[0.7777777777777778,\"#fb9f3a\"],[0.8888888888888888,\"#fdca26\"],[1.0,\"#f0f921\"]],\"type\":\"surface\"}],\"table\":[{\"cells\":{\"fill\":{\"color\":\"#EBF0F8\"},\"line\":{\"color\":\"white\"}},\"header\":{\"fill\":{\"color\":\"#C8D4E3\"},\"line\":{\"color\":\"white\"}},\"type\":\"table\"}]},\"layout\":{\"annotationdefaults\":{\"arrowcolor\":\"#2a3f5f\",\"arrowhead\":0,\"arrowwidth\":1},\"autotypenumbers\":\"strict\",\"coloraxis\":{\"colorbar\":{\"outlinewidth\":0,\"ticks\":\"\"}},\"colorscale\":{\"diverging\":[[0,\"#8e0152\"],[0.1,\"#c51b7d\"],[0.2,\"#de77ae\"],[0.3,\"#f1b6da\"],[0.4,\"#fde0ef\"],[0.5,\"#f7f7f7\"],[0.6,\"#e6f5d0\"],[0.7,\"#b8e186\"],[0.8,\"#7fbc41\"],[0.9,\"#4d9221\"],[1,\"#276419\"]],\"sequential\":[[0.0,\"#0d0887\"],[0.1111111111111111,\"#46039f\"],[0.2222222222222222,\"#7201a8\"],[0.3333333333333333,\"#9c179e\"],[0.4444444444444444,\"#bd3786\"],[0.5555555555555556,\"#d8576b\"],[0.6666666666666666,\"#ed7953\"],[0.7777777777777778,\"#fb9f3a\"],[0.8888888888888888,\"#fdca26\"],[1.0,\"#f0f921\"]],\"sequentialminus\":[[0.0,\"#0d0887\"],[0.1111111111111111,\"#46039f\"],[0.2222222222222222,\"#7201a8\"],[0.3333333333333333,\"#9c179e\"],[0.4444444444444444,\"#bd3786\"],[0.5555555555555556,\"#d8576b\"],[0.6666666666666666,\"#ed7953\"],[0.7777777777777778,\"#fb9f3a\"],[0.8888888888888888,\"#fdca26\"],[1.0,\"#f0f921\"]]},\"colorway\":[\"#636efa\",\"#EF553B\",\"#00cc96\",\"#ab63fa\",\"#FFA15A\",\"#19d3f3\",\"#FF6692\",\"#B6E880\",\"#FF97FF\",\"#FECB52\"],\"font\":{\"color\":\"#2a3f5f\"},\"geo\":{\"bgcolor\":\"white\",\"lakecolor\":\"white\",\"landcolor\":\"#E5ECF6\",\"showlakes\":true,\"showland\":true,\"subunitcolor\":\"white\"},\"hoverlabel\":{\"align\":\"left\"},\"hovermode\":\"closest\",\"mapbox\":{\"style\":\"light\"},\"paper_bgcolor\":\"white\",\"plot_bgcolor\":\"#E5ECF6\",\"polar\":{\"angularaxis\":{\"gridcolor\":\"white\",\"linecolor\":\"white\",\"ticks\":\"\"},\"bgcolor\":\"#E5ECF6\",\"radialaxis\":{\"gridcolor\":\"white\",\"linecolor\":\"white\",\"ticks\":\"\"}},\"scene\":{\"xaxis\":{\"backgroundcolor\":\"#E5ECF6\",\"gridcolor\":\"white\",\"gridwidth\":2,\"linecolor\":\"white\",\"showbackground\":true,\"ticks\":\"\",\"zerolinecolor\":\"white\"},\"yaxis\":{\"backgroundcolor\":\"#E5ECF6\",\"gridcolor\":\"white\",\"gridwidth\":2,\"linecolor\":\"white\",\"showbackground\":true,\"ticks\":\"\",\"zerolinecolor\":\"white\"},\"zaxis\":{\"backgroundcolor\":\"#E5ECF6\",\"gridcolor\":\"white\",\"gridwidth\":2,\"linecolor\":\"white\",\"showbackground\":true,\"ticks\":\"\",\"zerolinecolor\":\"white\"}},\"shapedefaults\":{\"line\":{\"color\":\"#2a3f5f\"}},\"ternary\":{\"aaxis\":{\"gridcolor\":\"white\",\"linecolor\":\"white\",\"ticks\":\"\"},\"baxis\":{\"gridcolor\":\"white\",\"linecolor\":\"white\",\"ticks\":\"\"},\"bgcolor\":\"#E5ECF6\",\"caxis\":{\"gridcolor\":\"white\",\"linecolor\":\"white\",\"ticks\":\"\"}},\"title\":{\"x\":0.05},\"xaxis\":{\"automargin\":true,\"gridcolor\":\"white\",\"linecolor\":\"white\",\"ticks\":\"\",\"title\":{\"standoff\":15},\"zerolinecolor\":\"white\",\"zerolinewidth\":2},\"yaxis\":{\"automargin\":true,\"gridcolor\":\"white\",\"linecolor\":\"white\",\"ticks\":\"\",\"title\":{\"standoff\":15},\"zerolinecolor\":\"white\",\"zerolinewidth\":2}}},\"xaxis\":{\"anchor\":\"y\",\"domain\":[0.0,1.0],\"title\":{\"text\":\"x0\"}},\"yaxis\":{\"anchor\":\"x\",\"domain\":[0.0,1.0],\"title\":{\"text\":\"x1\"}},\"legend\":{\"tracegroupgap\":0},\"title\":{\"text\":\"Embedded Visualization for Fake News Classification\"}},                        {\"responsive\": true}                    ).then(function(){\n",
              "                            \n",
              "var gd = document.getElementById('99b4b780-028a-445d-bf04-cb58f9a80229');\n",
              "var x = new MutationObserver(function (mutations, observer) {{\n",
              "        var display = window.getComputedStyle(gd).display;\n",
              "        if (!display || display === 'none') {{\n",
              "            console.log([gd, 'removed!']);\n",
              "            Plotly.purge(gd);\n",
              "            observer.disconnect();\n",
              "        }}\n",
              "}});\n",
              "\n",
              "// Listen for the removal of the full notebook cells\n",
              "var notebookContainer = gd.closest('#notebook-container');\n",
              "if (notebookContainer) {{\n",
              "    x.observe(notebookContainer, {childList: true});\n",
              "}}\n",
              "\n",
              "// Listen for the clearing of the current output cell\n",
              "var outputEl = gd.closest('.output');\n",
              "if (outputEl) {{\n",
              "    x.observe(outputEl, {childList: true});\n",
              "}}\n",
              "\n",
              "                        })                };                            </script>        </div>\n",
              "</body>\n",
              "</html>"
            ]
          },
          "metadata": {}
        }
      ]
    },
    {
      "cell_type": "code",
      "source": [
        ""
      ],
      "metadata": {
        "id": "HUJItNq9w7-p"
      },
      "execution_count": null,
      "outputs": []
    }
  ]
}